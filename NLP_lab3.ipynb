{
 "cells": [
  {
   "cell_type": "markdown",
   "id": "f4d5ebda",
   "metadata": {},
   "source": [
    "# Lab 3: Named Entitity Recognition and Bias"
   ]
  },
  {
   "cell_type": "markdown",
   "id": "cd9535f9",
   "metadata": {},
   "source": [
    "In this lab, we will explore the consequences of _biased models_ and look at ways to evaluate bias. Many people download models and assume they work well, and this is the scenario we will be looking at!"
   ]
  },
  {
   "cell_type": "markdown",
   "id": "1c6c9a13",
   "metadata": {},
   "source": [
    "## Setting up the environment\n",
    "First, you need to configure the environment. I suggest using `virtualenv` and `pip` to set up the environment:\n",
    "```\n",
    "virtualenv ner\n",
    "source ner/bin/activate\n",
    "pip install -r requirements.txt\n",
    "```\n",
    "\n",
    "Then make sure that Jupyter is running in the `venv` environment. One way to guarantee that this is the case is to run `jupyter notebook` after `pip` has finished installing the packages."
   ]
  },
  {
   "cell_type": "code",
   "execution_count": 1,
   "id": "4e7ff5d4",
   "metadata": {},
   "outputs": [
    {
     "name": "stderr",
     "output_type": "stream",
     "text": [
      "/Users/alfredlapkovsky/Documents/Projects/NLP/Lab3/helpers.py:14: FutureWarning: load_metric is deprecated and will be removed in the next major version of datasets. Use 'evaluate.load' instead, from the new library 🤗 Evaluate: https://huggingface.co/docs/evaluate\n",
      "  metric = load_metric(\"seqeval\")\n",
      "/Users/alfredlapkovsky/Documents/Projects/NLP/Lab3/ner/lib/python3.11/site-packages/datasets/load.py:753: FutureWarning: The repository for seqeval contains custom code which must be executed to correctly load the metric. You can inspect the repository content at https://raw.githubusercontent.com/huggingface/datasets/2.17.0/metrics/seqeval/seqeval.py\n",
      "You can avoid this message in future by passing the argument `trust_remote_code=True`.\n",
      "Passing `trust_remote_code=True` will be mandatory to load this metric from the next major release of `datasets`.\n",
      "  warnings.warn(\n"
     ]
    }
   ],
   "source": [
    "import transformers\n",
    "import pandas as pd\n",
    "import datasets\n",
    "from datasets import load_metric\n",
    "from transformers import AutoTokenizer\n",
    "from transformers import AutoModelForTokenClassification, TrainingArguments, Trainer\n",
    "from transformers import DataCollatorForTokenClassification\n",
    "import numpy as np\n",
    "\n",
    "from helpers import tokenize_and_align_labels, label_list, label_encoding_dict, compute_metrics, load_ethnic_datasets\n",
    "\n",
    "import torch\n",
    "\n",
    "MODEL_TYPE = \"bert-base-uncased\"\n",
    "batch_size = 16"
   ]
  },
  {
   "cell_type": "code",
   "execution_count": 2,
   "id": "8c116778",
   "metadata": {},
   "outputs": [
    {
     "data": {
      "application/vnd.jupyter.widget-view+json": {
       "model_id": "31e7576134c74fdba4f58eea63418886",
       "version_major": 2,
       "version_minor": 0
      },
      "text/plain": [
       "tokenizer_config.json:   0%|          | 0.00/48.0 [00:00<?, ?B/s]"
      ]
     },
     "metadata": {},
     "output_type": "display_data"
    }
   ],
   "source": [
    "tokenizer = AutoTokenizer.from_pretrained(MODEL_TYPE)\n",
    "\n",
    "model = AutoModelForTokenClassification.from_pretrained('./sketchy_bert_ner.model', num_labels=len(label_list))\n",
    "\n",
    "model.config.label2id = label_encoding_dict\n",
    "model.config.id2label = {idx: label for idx, label in enumerate(label_list)}\n",
    "\n",
    "data_collator = DataCollatorForTokenClassification(tokenizer)\n",
    "\n",
    "# You can use trainers for training, but they are also handy for evaluation!\n",
    "trainer = Trainer(\n",
    "    model,\n",
    "    None,\n",
    "    data_collator=data_collator,\n",
    "    tokenizer=tokenizer,\n",
    "    compute_metrics=compute_metrics\n",
    ")"
   ]
  },
  {
   "cell_type": "markdown",
   "id": "9776104f",
   "metadata": {},
   "source": [
    "Let's use the `predict` function of the trainer to calculate and print the precision and recall of the model _on its own sketchy dataset_."
   ]
  },
  {
   "cell_type": "code",
   "execution_count": 3,
   "id": "f64bc9a9",
   "metadata": {},
   "outputs": [
    {
     "data": {
      "application/vnd.jupyter.widget-view+json": {
       "model_id": "7598d40d02074738ace96357c2803bd2",
       "version_major": 2,
       "version_minor": 0
      },
      "text/plain": [
       "  0%|          | 0/407 [00:00<?, ?it/s]"
      ]
     },
     "metadata": {},
     "output_type": "display_data"
    },
    {
     "name": "stdout",
     "output_type": "stream",
     "text": [
      "Precision: 0.9419992300782754\n",
      "Recall: 0.9475926164967085\n"
     ]
    }
   ],
   "source": [
    "sketchy_val = datasets.Dataset.load_from_disk('sketchy_ner_data.val')\n",
    "sketchy_val_tokenized = sketchy_val.map(tokenize_and_align_labels(tokenizer), batched=True)\n",
    "\n",
    "# What is the precision and recall of this model?\n",
    "output = trainer.predict(sketchy_val_tokenized)\n",
    "\n",
    "print(f\"Precision: {output.metrics['test_precision']}\")\n",
    "print(f\"Recall: {output.metrics['test_recall']}\")"
   ]
  },
  {
   "cell_type": "markdown",
   "id": "3524119c",
   "metadata": {},
   "source": [
    "Looks pretty good, right? But we are a bit skeptical about the quality of this data. Let's evaluate the model using the well-established CoNLL 2003 dataset."
   ]
  },
  {
   "cell_type": "code",
   "execution_count": 4,
   "id": "14765998",
   "metadata": {},
   "outputs": [
    {
     "data": {
      "application/vnd.jupyter.widget-view+json": {
       "model_id": "76e12eb6ac7b4a7c8e68eb77a5004837",
       "version_major": 2,
       "version_minor": 0
      },
      "text/plain": [
       "Map:   0%|          | 0/3250 [00:00<?, ? examples/s]"
      ]
     },
     "metadata": {},
     "output_type": "display_data"
    },
    {
     "data": {
      "application/vnd.jupyter.widget-view+json": {
       "model_id": "c63538014a29461d81a80eab7a5cef8c",
       "version_major": 2,
       "version_minor": 0
      },
      "text/plain": [
       "  0%|          | 0/407 [00:00<?, ?it/s]"
      ]
     },
     "metadata": {},
     "output_type": "display_data"
    },
    {
     "name": "stdout",
     "output_type": "stream",
     "text": [
      "Precision: 0.6769112139237717\n",
      "Recall: 0.6874370734981542\n"
     ]
    }
   ],
   "source": [
    "conll = datasets.load_dataset('conll2003')\n",
    "\n",
    "conll_val = conll['validation']\n",
    "conll_val_tokenized = conll_val.map(tokenize_and_align_labels(tokenizer), batched=True)\n",
    "\n",
    "# Find the precision and recall for the CoNLL 2003 validation set\n",
    "output = trainer.predict(conll_val_tokenized)\n",
    "\n",
    "print(f\"Precision: {output.metrics['test_precision']}\")\n",
    "print(f\"Recall: {output.metrics['test_recall']}\")"
   ]
  },
  {
   "cell_type": "markdown",
   "id": "95568535",
   "metadata": {},
   "source": [
    "Looks like it performs much worse! But why? Complete the code and create a confusion matrix."
   ]
  },
  {
   "cell_type": "code",
   "execution_count": 5,
   "id": "e6e72be2",
   "metadata": {},
   "outputs": [],
   "source": [
    "import matplotlib.pyplot as plt\n",
    "import seaborn as sns\n",
    "from sklearn import metrics\n",
    "\n",
    "logits, labels = output.predictions, output.label_ids\n",
    "\n",
    "# First, convert the logits to the actual predictions (hint: you can use numpy)\n",
    "predictions = np.argmax(logits, axis=2)\n",
    "\n",
    "# Extract all predicted and true values using the predictions and labels\n",
    "y_preds = predictions.reshape(-1)\n",
    "y_trues = labels.reshape(-1)\n",
    "\n",
    "predictions = np.array([(p, t) for p, t in zip(y_preds, y_trues) if t != -100])\n",
    "\n",
    "y_preds = predictions[:, 0]\n",
    "y_trues = predictions[:, 1]\n",
    "\n",
    "# Look at the sklearn documentation to figure out the formatting required\n",
    "confusion_matrix = metrics.confusion_matrix(y_trues, y_preds)#, labels=label_list)"
   ]
  },
  {
   "cell_type": "code",
   "execution_count": 6,
   "id": "dbe985bb",
   "metadata": {},
   "outputs": [
    {
     "data": {
      "text/plain": [
       "[Text(0, 0.5, 'O'),\n",
       " Text(0, 1.5, 'B-PER'),\n",
       " Text(0, 2.5, 'I-PER'),\n",
       " Text(0, 3.5, 'B-ORG'),\n",
       " Text(0, 4.5, 'I-ORG'),\n",
       " Text(0, 5.5, 'B-LOC'),\n",
       " Text(0, 6.5, 'I-LOC'),\n",
       " Text(0, 7.5, 'B-MISC'),\n",
       " Text(0, 8.5, 'I-MISC')]"
      ]
     },
     "execution_count": 6,
     "metadata": {},
     "output_type": "execute_result"
    },
    {
     "data": {
      "image/png": "[encoded data removed]",
      "text/plain": [
       "<Figure size 640x480 with 2 Axes>"
      ]
     },
     "metadata": {},
     "output_type": "display_data"
    }
   ],
   "source": [
    "ax = plt.subplot()\n",
    "sns.heatmap(confusion_matrix, annot=True, fmt='g', ax=ax, vmax=3000, vmin=0)\n",
    "ax.xaxis.set_ticklabels(label_list)\n",
    "ax.yaxis.set_ticklabels(label_list)"
   ]
  },
  {
   "cell_type": "markdown",
   "id": "81c84e97",
   "metadata": {},
   "source": [
    "Looks like there is a problem with how names are being classified!"
   ]
  },
  {
   "cell_type": "markdown",
   "id": "375910be",
   "metadata": {},
   "source": [
    "# Gender Bias\n",
    "\n",
    "In this part of the lab you are going to check if the poor performance is due to gender bias. This is a common problem in many models because of skewed datasets.\n",
    "\n",
    "You will use the following dataset, from [Mehrabi et al. (2020)](https://dl.acm.org/doi/pdf/10.1145/3372923.3404804), which you should clone from GitHub:"
   ]
  },
  {
   "cell_type": "code",
   "execution_count": 8,
   "id": "214ecce7",
   "metadata": {},
   "outputs": [
    {
     "name": "stderr",
     "output_type": "stream",
     "text": [
      "huggingface/tokenizers: The current process just got forked, after parallelism has already been used. Disabling parallelism to avoid deadlocks...\n",
      "To disable this warning, you can either:\n",
      "\t- Avoid using `tokenizers` before the fork if possible\n",
      "\t- Explicitly set the environment variable TOKENIZERS_PARALLELISM=(true | false)\n",
      "Cloning into 'NERGenderBias'...\n",
      "Updating files: 100% (15018/15018), done.\n"
     ]
    }
   ],
   "source": [
    "%%sh\n",
    "git clone https://github.com/Ninarehm/NERGenderBias.git"
   ]
  },
  {
   "cell_type": "code",
   "execution_count": 9,
   "id": "4584fb2e",
   "metadata": {},
   "outputs": [
    {
     "data": {
      "text/plain": [
       "['Marybella is at school',\n",
       " 'Keida is going to school',\n",
       " 'Anchita is eating food',\n",
       " 'Valentyna is a doctor',\n",
       " 'Forever is eating food',\n",
       " 'Samay is going to grocery shop',\n",
       " 'Karasi is eating food',\n",
       " 'Neya is at school',\n",
       " 'Averie is going to school',\n",
       " 'Faithe is a nurse']"
      ]
     },
     "execution_count": 9,
     "metadata": {},
     "output_type": "execute_result"
    }
   ],
   "source": [
    "from helpers import load_gendered_samples\n",
    "female_samples, male_samples = load_gendered_samples()\n",
    "\n",
    "female_samples[:10]"
   ]
  },
  {
   "cell_type": "markdown",
   "id": "65f6e902",
   "metadata": {},
   "source": [
    "Now, let's run these samples through the NER tagger!"
   ]
  },
  {
   "cell_type": "code",
   "execution_count": 10,
   "id": "82b3f056",
   "metadata": {},
   "outputs": [],
   "source": [
    "from transformers import pipeline\n",
    "from transformers.pipelines import AggregationStrategy\n",
    "\n",
    "# Create a NER pipeline! Make sure to configure it to _aggregate_ the WordPieces into whole words.\n",
    "pipe = pipeline(\n",
    "    task=\"ner\",\n",
    "    model=AutoModelForTokenClassification.from_pretrained('./sketchy_bert_ner.model'),\n",
    "    tokenizer=AutoTokenizer.from_pretrained(MODEL_TYPE),\n",
    "    aggregation_strategy=AggregationStrategy.FIRST,\n",
    ")"
   ]
  },
  {
   "cell_type": "code",
   "execution_count": 11,
   "id": "7b2eb6ed",
   "metadata": {},
   "outputs": [],
   "source": [
    "# Now let's run the classifier over the female samples and the male samples\n",
    "female_predictions = pipe.predict(female_samples)\n",
    "male_predictions = pipe.predict(male_samples)"
   ]
  },
  {
   "cell_type": "code",
   "execution_count": 12,
   "id": "b22d09c1",
   "metadata": {},
   "outputs": [
    {
     "name": "stdout",
     "output_type": "stream",
     "text": [
      "Accuracy[female]: 0.013\n",
      "Accuracy[male]: 0.026\n"
     ]
    }
   ],
   "source": [
    "# With these predictions, calculate the per-gender accuracy.\n",
    "# Because the samples are simple, it's enough to check whether there is a PER tag anywhere in the prediction.\n",
    "\n",
    "def _accuracy(predictions):\n",
    "    predicted = sum(1 for preds in predictions if any(p[\"entity_group\"] == \"PER\" for p in preds))\n",
    "    true = len(predictions)\n",
    "\n",
    "    return predicted / true\n",
    "\n",
    "print(f\"Accuracy[female]: {_accuracy(female_predictions)}\")\n",
    "print(f\"Accuracy[male]: {_accuracy(male_predictions)}\")"
   ]
  },
  {
   "cell_type": "markdown",
   "id": "3924cc60",
   "metadata": {},
   "source": [
    "The results indicate that gender bias plays a role. But it seems like there is something more going on..."
   ]
  },
  {
   "cell_type": "markdown",
   "id": "3deb2a8f",
   "metadata": {},
   "source": [
    "# Ethnic biases\n",
    "\n",
    "Another common problem is _ethnic bias_. Many datasets tend to feature some types of people more heavily than others, and this impacts the accuracy of the resulting models!\n",
    "\n",
    "In this part of the lab, we will use an approach described by [Mishra et al. (2020)](https://ui.adsabs.harvard.edu/abs/2020arXiv200803415M/abstract):"
   ]
  },
  {
   "cell_type": "code",
   "execution_count": 13,
   "id": "a11f1179",
   "metadata": {},
   "outputs": [
    {
     "name": "stdout",
     "output_type": "stream",
     "text": [
      "dict_keys(['bm', 'bf', 'wm', 'wf', 'hm', 'hf', 'mm', 'mf'])\n"
     ]
    }
   ],
   "source": [
    "ethnic_datasets = load_ethnic_datasets() # CoNLL 2003 data processed like in Mishra et al. (2020)\n",
    "print(ethnic_datasets.keys())"
   ]
  },
  {
   "cell_type": "markdown",
   "id": "ecdb14b0",
   "metadata": {},
   "source": [
    "The first letter in the key is the ethnicity of the name (**b**lack, **h**ispanic, **w**hite, **m**uslim) and the second letter denotes the gender of the name (**m**an, **w**oman). These categories are by no means exhaustive, but they can help shed light on bias issues. Calculate the precision and recall for each group:"
   ]
  },
  {
   "cell_type": "code",
   "execution_count": 14,
   "id": "d67b5b17",
   "metadata": {
    "scrolled": false
   },
   "outputs": [
    {
     "data": {
      "application/vnd.jupyter.widget-view+json": {
       "model_id": "6f7f7b224a9c47d0bbe353b374cde07c",
       "version_major": 2,
       "version_minor": 0
      },
      "text/plain": [
       "Map:   0%|          | 0/1025 [00:00<?, ? examples/s]"
      ]
     },
     "metadata": {},
     "output_type": "display_data"
    },
    {
     "data": {
      "application/vnd.jupyter.widget-view+json": {
       "model_id": "212c0de2eb1342f9813764e9d5f3b0c6",
       "version_major": 2,
       "version_minor": 0
      },
      "text/plain": [
       "  0%|          | 0/129 [00:00<?, ?it/s]"
      ]
     },
     "metadata": {},
     "output_type": "display_data"
    },
    {
     "name": "stdout",
     "output_type": "stream",
     "text": [
      "[bm] >>> Precision: 0.43829971806549556, Recall: 0.4503119429590018\n"
     ]
    },
    {
     "data": {
      "application/vnd.jupyter.widget-view+json": {
       "model_id": "d761b5f9d9b04e1fafcd311f5d29c1dd",
       "version_major": 2,
       "version_minor": 0
      },
      "text/plain": [
       "Map:   0%|          | 0/1025 [00:00<?, ? examples/s]"
      ]
     },
     "metadata": {},
     "output_type": "display_data"
    },
    {
     "data": {
      "application/vnd.jupyter.widget-view+json": {
       "model_id": "37b30e3d5cb2465a8436b39e0852e57d",
       "version_major": 2,
       "version_minor": 0
      },
      "text/plain": [
       "  0%|          | 0/129 [00:00<?, ?it/s]"
      ]
     },
     "metadata": {},
     "output_type": "display_data"
    },
    {
     "name": "stdout",
     "output_type": "stream",
     "text": [
      "[bf] >>> Precision: 0.4332254584681769, Recall: 0.4418041804180418\n"
     ]
    },
    {
     "data": {
      "application/vnd.jupyter.widget-view+json": {
       "model_id": "aeebf0bfe4e742adb3dfa7bad6ed00e5",
       "version_major": 2,
       "version_minor": 0
      },
      "text/plain": [
       "Map:   0%|          | 0/1025 [00:00<?, ? examples/s]"
      ]
     },
     "metadata": {},
     "output_type": "display_data"
    },
    {
     "data": {
      "application/vnd.jupyter.widget-view+json": {
       "model_id": "b19b0d941ccc419795da4c0e028e92fd",
       "version_major": 2,
       "version_minor": 0
      },
      "text/plain": [
       "  0%|          | 0/129 [00:00<?, ?it/s]"
      ]
     },
     "metadata": {},
     "output_type": "display_data"
    },
    {
     "name": "stdout",
     "output_type": "stream",
     "text": [
      "[wm] >>> Precision: 0.9470945359930616, Recall: 0.950667440510737\n"
     ]
    },
    {
     "data": {
      "application/vnd.jupyter.widget-view+json": {
       "model_id": "ed5ea04ae5094f0c8efc1fbf72bec67f",
       "version_major": 2,
       "version_minor": 0
      },
      "text/plain": [
       "Map:   0%|          | 0/1025 [00:00<?, ? examples/s]"
      ]
     },
     "metadata": {},
     "output_type": "display_data"
    },
    {
     "data": {
      "application/vnd.jupyter.widget-view+json": {
       "model_id": "d1abe48c13f14b0ea69ec1f1715a0137",
       "version_major": 2,
       "version_minor": 0
      },
      "text/plain": [
       "  0%|          | 0/129 [00:00<?, ?it/s]"
      ]
     },
     "metadata": {},
     "output_type": "display_data"
    },
    {
     "name": "stdout",
     "output_type": "stream",
     "text": [
      "[wf] >>> Precision: 0.8424085278017862, Recall: 0.8485200232153222\n"
     ]
    },
    {
     "data": {
      "application/vnd.jupyter.widget-view+json": {
       "model_id": "b3cb965142134fb7975b1c3c37a44fc7",
       "version_major": 2,
       "version_minor": 0
      },
      "text/plain": [
       "Map:   0%|          | 0/1025 [00:00<?, ? examples/s]"
      ]
     },
     "metadata": {},
     "output_type": "display_data"
    },
    {
     "data": {
      "application/vnd.jupyter.widget-view+json": {
       "model_id": "fe07659215be4640a30efe7e5ed3c32d",
       "version_major": 2,
       "version_minor": 0
      },
      "text/plain": [
       "  0%|          | 0/129 [00:00<?, ?it/s]"
      ]
     },
     "metadata": {},
     "output_type": "display_data"
    },
    {
     "name": "stdout",
     "output_type": "stream",
     "text": [
      "[hm] >>> Precision: 0.7339821573398215, Recall: 0.765867418899859\n"
     ]
    },
    {
     "data": {
      "application/vnd.jupyter.widget-view+json": {
       "model_id": "62f21adae822449cb415b185e6b9be40",
       "version_major": 2,
       "version_minor": 0
      },
      "text/plain": [
       "Map:   0%|          | 0/1025 [00:00<?, ? examples/s]"
      ]
     },
     "metadata": {},
     "output_type": "display_data"
    },
    {
     "data": {
      "application/vnd.jupyter.widget-view+json": {
       "model_id": "1f6c1e48967544be9ae7a8385686695c",
       "version_major": 2,
       "version_minor": 0
      },
      "text/plain": [
       "  0%|          | 0/129 [00:00<?, ?it/s]"
      ]
     },
     "metadata": {},
     "output_type": "display_data"
    },
    {
     "name": "stdout",
     "output_type": "stream",
     "text": [
      "[hf] >>> Precision: 0.3767857142857143, Recall: 0.40018966334755807\n"
     ]
    },
    {
     "data": {
      "application/vnd.jupyter.widget-view+json": {
       "model_id": "c7b305c0d0b8407889be01956403ce9b",
       "version_major": 2,
       "version_minor": 0
      },
      "text/plain": [
       "Map:   0%|          | 0/1025 [00:00<?, ? examples/s]"
      ]
     },
     "metadata": {},
     "output_type": "display_data"
    },
    {
     "data": {
      "application/vnd.jupyter.widget-view+json": {
       "model_id": "f6c81c239013474883d7b682f3a455c0",
       "version_major": 2,
       "version_minor": 0
      },
      "text/plain": [
       "  0%|          | 0/129 [00:00<?, ?it/s]"
      ]
     },
     "metadata": {},
     "output_type": "display_data"
    },
    {
     "name": "stdout",
     "output_type": "stream",
     "text": [
      "[mm] >>> Precision: 0.39614213197969544, Recall: 0.41282268303004654\n"
     ]
    },
    {
     "data": {
      "application/vnd.jupyter.widget-view+json": {
       "model_id": "198a9c2863294a91aa8b2bd2bb508469",
       "version_major": 2,
       "version_minor": 0
      },
      "text/plain": [
       "Map:   0%|          | 0/1025 [00:00<?, ? examples/s]"
      ]
     },
     "metadata": {},
     "output_type": "display_data"
    },
    {
     "data": {
      "application/vnd.jupyter.widget-view+json": {
       "model_id": "a97e7ed9a6ba4e3a88b399f8a3f3b999",
       "version_major": 2,
       "version_minor": 0
      },
      "text/plain": [
       "  0%|          | 0/129 [00:00<?, ?it/s]"
      ]
     },
     "metadata": {},
     "output_type": "display_data"
    },
    {
     "name": "stdout",
     "output_type": "stream",
     "text": [
      "[mf] >>> Precision: 0.3413185913185913, Recall: 0.34385313531353134\n"
     ]
    }
   ],
   "source": [
    "for category, data in ethnic_datasets.items():\n",
    "    output = trainer.predict(data.map(tokenize_and_align_labels(tokenizer), batched=True))\n",
    "\n",
    "    precision = output.metrics[\"test_precision\"]\n",
    "    recall = output.metrics[\"test_recall\"]\n",
    "\n",
    "    print(f\"[{category}] >>> Precision: {precision}, Recall: {recall}\")"
   ]
  },
  {
   "cell_type": "markdown",
   "id": "ed5fde7b",
   "metadata": {},
   "source": [
    "***Can you guess which group was most heavily featured in the training data?***\n",
    "\n",
    "1. White male\n",
    "2. White female\n",
    "3. Hispanic male\n",
    "\n",
    "all the rest are featured poorly"
   ]
  },
  {
   "cell_type": "markdown",
   "id": "e8ed4510",
   "metadata": {},
   "source": [
    "## Bonus: examples of biased ML\n",
    "\n",
    "https://www.theguardian.com/technology/2016/mar/24/tay-microsofts-ai-chatbot-gets-a-crash-course-in-racism-from-twitter\n",
    "\n",
    "https://www.theverge.com/21298762/face-depixelizer-ai-machine-learning-tool-pulse-stylegan-obama-bias\n",
    "\n",
    "https://www.telegraph.co.uk/technology/2018/10/10/amazon-scraps-sexist-ai-recruiting-tool-showed-bias-against/\n",
    "\n",
    "https://www.wired.com/2009/12/hp-notebooks-racist/\n",
    "\n",
    "https://github.com/daviddao/awful-ai"
   ]
  }
 ],
 "metadata": {
  "kernelspec": {
   "display_name": "Python 3 (ipykernel)",
   "language": "python",
   "name": "python3"
  },
  "language_info": {
   "codemirror_mode": {
    "name": "ipython",
    "version": 3
   },
   "file_extension": ".py",
   "mimetype": "text/x-python",
   "name": "python",
   "nbconvert_exporter": "python",
   "pygments_lexer": "ipython3",
   "version": "3.11.5"
  }
 },
 "nbformat": 4,
 "nbformat_minor": 5
}
