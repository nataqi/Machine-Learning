{
 "cells": [
  {
   "cell_type": "markdown",
   "id": "tested-office",
   "metadata": {},
   "source": [
    "Basic NLP "
   ]
  },
  {
   "cell_type": "markdown",
   "id": "characteristic-article",
   "metadata": {},
   "source": [
    "dataset\n",
    "http://people.dsv.su.se/hercules/BBC_politics_business.txt\n"
   ]
  },
  {
   "cell_type": "code",
   "execution_count": null,
   "id": "antique-alignment",
   "metadata": {},
   "outputs": [],
   "source": [
    "corpusFilePointer = open(\"BBC_politics_business.txt\")"
   ]
  },
  {
   "cell_type": "code",
   "execution_count": 7,
   "id": "handed-barrier",
   "metadata": {},
   "outputs": [],
   "source": [
    "corpusText = corpusFilePointer.read()\n",
    "corpusFilePointer.close()"
   ]
  },
  {
   "cell_type": "code",
   "execution_count": null,
   "id": "surface-niger",
   "metadata": {},
   "outputs": [],
   "source": [
    "import nltk"
   ]
  },
  {
   "cell_type": "code",
   "execution_count": null,
   "id": "harmful-theta",
   "metadata": {},
   "outputs": [],
   "source": [
    "corpusWords = nltk.word_tokenize(corpusText) #tokenize"
   ]
  },
  {
   "cell_type": "code",
   "execution_count": null,
   "id": "fixed-madison",
   "metadata": {},
   "outputs": [
    {
     "data": {
      "text/plain": [
       "84337"
      ]
     },
     "execution_count": 10,
     "metadata": {},
     "output_type": "execute_result"
    }
   ],
   "source": [
    "len(corpusWords)"
   ]
  },
  {
   "cell_type": "code",
   "execution_count": null,
   "id": "cosmetic-blocking",
   "metadata": {},
   "outputs": [
    {
     "data": {
      "text/plain": [
       "9763"
      ]
     },
     "execution_count": 11,
     "metadata": {},
     "output_type": "execute_result"
    }
   ],
   "source": [
    "#number of unique tokens (types) \n",
    "len(set(corpusWords))"
   ]
  },
  {
   "cell_type": "code",
   "execution_count": null,
   "id": "entertaining-concord",
   "metadata": {},
   "outputs": [
    {
     "data": {
      "text/plain": [
       "179"
      ]
     },
     "execution_count": 12,
     "metadata": {},
     "output_type": "execute_result"
    }
   ],
   "source": [
    "from nltk.corpus import stopwords\n",
    "stop_words = stopwords.words('english')\n",
    "len(stop_words)"
   ]
  },
  {
   "cell_type": "code",
   "execution_count": null,
   "id": "known-memphis",
   "metadata": {},
   "outputs": [],
   "source": [
    "# filter out the stopwords \n",
    "def filter_stop_words(corpus, stop_words):\n",
    "    stop_word_set = set(stop_words)\n",
    "    return [w for w in corpus if w not in stop_word_set]"
   ]
  },
  {
   "cell_type": "code",
   "execution_count": 14,
   "id": "matched-pizza",
   "metadata": {},
   "outputs": [
    {
     "data": {
      "text/plain": [
       "56299"
      ]
     },
     "execution_count": 14,
     "metadata": {},
     "output_type": "execute_result"
    }
   ],
   "source": [
    "# 4) \n",
    "# How many tokens are there in the BBC corpus after filter out the stopwords\n",
    "# are these reasonable or to many or too few?\n",
    "filteredCorpus = filter_stop_words(corpusWords, stop_words)\n",
    "len(filteredCorpus)"
   ]
  },
  {
   "cell_type": "code",
   "execution_count": null,
   "id": "continuing-exposure",
   "metadata": {},
   "outputs": [],
   "source": [
    "# if all stopwords really were removed\n",
    "def filter_stop_words_ignoring_case(corpus, stop_words):\n",
    "    stop_word_set = set(stop_words)\n",
    "    return [w for w in corpus if w.lower() not in stop_word_set]"
   ]
  },
  {
   "cell_type": "code",
   "execution_count": null,
   "id": "conscious-apollo",
   "metadata": {},
   "outputs": [
    {
     "data": {
      "text/plain": [
       "54006"
      ]
     },
     "execution_count": 16,
     "metadata": {},
     "output_type": "execute_result"
    }
   ],
   "source": [
    "\n",
    "# How many tokens are there after filtering also\n",
    "filteredIgnoringCaseCorpus = filter_stop_words_ignoring_case(filteredCorpus, stop_words)\n",
    "len(filteredIgnoringCaseCorpus)"
   ]
  },
  {
   "cell_type": "code",
   "execution_count": null,
   "id": "square-credit",
   "metadata": {},
   "outputs": [
    {
     "data": {
      "text/plain": [
       "9565"
      ]
     },
     "execution_count": 17,
     "metadata": {},
     "output_type": "execute_result"
    }
   ],
   "source": [
    "# How many types \n",
    "len(set(filteredIgnoringCaseCorpus))"
   ]
  },
  {
   "cell_type": "code",
   "execution_count": null,
   "id": "sonic-passage",
   "metadata": {},
   "outputs": [],
   "source": [
    "#lemmatization\n",
    "from nltk.stem import WordNetLemmatizer\n",
    "lemmatizer = WordNetLemmatizer()"
   ]
  },
  {
   "cell_type": "code",
   "execution_count": null,
   "id": "mobile-carry",
   "metadata": {},
   "outputs": [],
   "source": [
    "def lemmatize(corpus, lemmatizer):\n",
    "    return [lemmatizer.lemmatize(w) for w in corpus]"
   ]
  },
  {
   "cell_type": "code",
   "execution_count": null,
   "id": "selective-programming",
   "metadata": {},
   "outputs": [
    {
     "data": {
      "text/plain": [
       "8815"
      ]
     },
     "execution_count": 20,
     "metadata": {},
     "output_type": "execute_result"
    }
   ],
   "source": [
    "# How many types after lemmatization?\n",
    "lemmatizedCorpus = lemmatize(filteredIgnoringCaseCorpus, lemmatizer)\n",
    "len(set(lemmatizedCorpus))\n"
   ]
  },
  {
   "cell_type": "code",
   "execution_count": null,
   "id": "aquatic-lafayette",
   "metadata": {},
   "outputs": [],
   "source": [
    "#stemm\n",
    "#from nltk.stem import PorterStemmer\n",
    "\n",
    "stemmer = nltk.stem.PorterStemmer()"
   ]
  },
  {
   "cell_type": "code",
   "execution_count": null,
   "id": "republican-stranger",
   "metadata": {},
   "outputs": [],
   "source": [
    "def stem(corpus, stemmer):\n",
    "    return [stemmer.stem(w) for w in corpus]"
   ]
  },
  {
   "cell_type": "code",
   "execution_count": null,
   "id": "specialized-greece",
   "metadata": {},
   "outputs": [
    {
     "data": {
      "text/plain": [
       "6506"
      ]
     },
     "execution_count": 23,
     "metadata": {},
     "output_type": "execute_result"
    }
   ],
   "source": [
    "# How many types after stemming?\n",
    "\n",
    "stemmedCorpus = stem(filteredIgnoringCaseCorpus, stemmer)\n",
    "len(set(stemmedCorpus))"
   ]
  },
  {
   "cell_type": "code",
   "execution_count": null,
   "id": "confused-document",
   "metadata": {},
   "outputs": [],
   "source": [
    "#POS tag\n",
    "posTags = nltk.pos_tag(corpusWords)"
   ]
  },
  {
   "cell_type": "code",
   "execution_count": null,
   "id": "noted-english",
   "metadata": {},
   "outputs": [
    {
     "name": "stdout",
     "output_type": "stream",
     "text": [
      "(GPE Israeli/JJ)\n",
      "(PERSON Ehud/NNP Olmert/NNP)\n",
      "(GPE Palestinian/NNP)\n",
      "(PERSON Mahmoud/NNP Abbas/NNP)\n",
      "(GPE Jerusalem/NNP)\n",
      "(GPE Palestinian/JJ)\n",
      "(PERSON Saeb/NNP Erekat/NNP)\n",
      "(GPE Israeli/JJ)\n",
      "(GPE Palestinian/JJ)\n",
      "(PERSON Mr./NNP Olmert/NNP)\n",
      "(PERSON Mr./NNP Olmert/NNP)\n",
      "(ORGANIZATION Kadima/NNP Party/NNP)\n"
     ]
    },
    {
     "name": "stderr",
     "output_type": "stream",
     "text": [
      "[nltk_data] Downloading package maxent_ne_chunker to\n",
      "[nltk_data]     /Users/alfredlapkovsky/nltk_data...\n",
      "[nltk_data]   Package maxent_ne_chunker is already up-to-date!\n",
      "[nltk_data] Downloading package words to\n",
      "[nltk_data]     /Users/alfredlapkovsky/nltk_data...\n",
      "[nltk_data]   Package words is already up-to-date!\n"
     ]
    }
   ],
   "source": [
    "import nltk\n",
    "sent = (\"Israeli Prime Minister Ehud Olmert is scheduled to meet with Palestinian President Mahmoud Abbas Wednesday in Jerusalem. Palestinian negotiator Saeb Erekat said the talks will focus on permanent- status issues, Israeli checkpoints and the fate of Palestinian prisoners. The meeting, at Mr. Olmert's official residence, will be the first between the two since Mr. Olmert announced that he will step down after his Kadima Party chooses a new leader in September. The two leaders re-started peace talks in November with the goal of reaching a deal by this year's end\")\n",
    "\n",
    "# Tokenisation\n",
    "tokenised = nltk.word_tokenize(sent)\n",
    "\n",
    "# Taggning\n",
    "tagged = nltk.pos_tag(tokenised)\n",
    "\n",
    "# Chunking\n",
    "import ssl\n",
    "ssl._create_default_https_context = ssl._create_unverified_context\n",
    "nltk.download(\"maxent_ne_chunker\")\n",
    "nltk.download(\"words\")\n",
    "sentChunked = nltk.ne_chunk(tagged)\n",
    "\n",
    "#PERSON, ORGANIZATION and GPE\n",
    "\n",
    "for n in sentChunked:\n",
    "    if isinstance(n, nltk.tree.Tree):               \n",
    "        if n.label() == 'PERSON' or n.label() == 'ORGANIZATION' or n.label() == 'GPE':\n",
    "            print(n)\n",
    "        else:\n",
    "            n\n",
    "            #print(n)"
   ]
  },
  {
   "cell_type": "code",
   "execution_count": null,
   "id": "nonprofit-torture",
   "metadata": {},
   "outputs": [
    {
     "name": "stderr",
     "output_type": "stream",
     "text": [
      "2024-01-24 21:31:36.524 Python[69132:12655074] WARNING: Secure coding is not enabled for restorable state! Enable secure coding by implementing NSApplicationDelegate.applicationSupportsSecureRestorableState: and returning YES.\n"
     ]
    }
   ],
   "source": [
    "sentChunked.draw() #draw a chunktree "
   ]
  },
  {
   "cell_type": "code",
   "execution_count": 28,
   "id": "expanded-publisher",
   "metadata": {},
   "outputs": [],
   "source": [
    "# Chunking\n",
    "taggedCorpus = nltk.pos_tag(corpusWords)\n",
    "chunkedCorpus = nltk.ne_chunk(taggedCorpus)"
   ]
  },
  {
   "cell_type": "code",
   "execution_count": 29,
   "id": "f5e0bfbc",
   "metadata": {},
   "outputs": [],
   "source": [
    "def count_entities(chunks, label):\n",
    "    return len([n for n in chunks if isinstance(n, nltk.tree.Tree) and n.label() == label])"
   ]
  },
  {
   "cell_type": "code",
   "execution_count": 30,
   "id": "complex-blackberry",
   "metadata": {},
   "outputs": [
    {
     "data": {
      "text/plain": [
       "1886"
      ]
     },
     "execution_count": 30,
     "metadata": {},
     "output_type": "execute_result"
    }
   ],
   "source": [
    "# Number of PERSON\n",
    "count_entities(chunkedCorpus, \"PERSON\")"
   ]
  },
  {
   "cell_type": "code",
   "execution_count": 31,
   "id": "photographic-settle",
   "metadata": {},
   "outputs": [
    {
     "data": {
      "text/plain": [
       "1543"
      ]
     },
     "execution_count": 31,
     "metadata": {},
     "output_type": "execute_result"
    }
   ],
   "source": [
    "# Number of ORGANIZATION\n",
    "count_entities(chunkedCorpus, \"ORGANIZATION\")"
   ]
  },
  {
   "cell_type": "code",
   "execution_count": 32,
   "id": "norwegian-papua",
   "metadata": {},
   "outputs": [
    {
     "data": {
      "text/plain": [
       "1432"
      ]
     },
     "execution_count": 32,
     "metadata": {},
     "output_type": "execute_result"
    }
   ],
   "source": [
    "# Number of GPE/locations\n",
    "count_entities(chunkedCorpus, \"GPE\")"
   ]
  },
  {
   "cell_type": "code",
   "execution_count": null,
   "id": "continuing-engineer",
   "metadata": {},
   "outputs": [
    {
     "name": "stdout",
     "output_type": "stream",
     "text": [
      "\n",
      "2-grams >>>>>>>\n",
      "\n",
      "\n",
      "('Israeli', 'Prime')\n",
      "('Prime', 'Minister')\n",
      "('Minister', 'Ehud')\n",
      "('Ehud', 'Olmert')\n",
      "('Olmert', 'is')\n",
      "('is', 'scheduled')\n",
      "('scheduled', 'to')\n",
      "('to', 'meet')\n",
      "('meet', 'with')\n",
      "('with', 'Palestinian')\n",
      "('Palestinian', 'President')\n",
      "('President', 'Mahmoud')\n",
      "('Mahmoud', 'Abbas')\n",
      "('Abbas', 'Wednesday')\n",
      "('Wednesday', 'in')\n",
      "('in', 'Jerusalem')\n",
      "('Jerusalem', '.')\n",
      "('.', 'Palestinian')\n",
      "('Palestinian', 'negotiator')\n",
      "('negotiator', 'Saeb')\n",
      "('Saeb', 'Erekat')\n",
      "('Erekat', 'said')\n",
      "('said', 'the')\n",
      "('the', 'talks')\n",
      "('talks', 'will')\n",
      "('will', 'focus')\n",
      "('focus', 'on')\n",
      "('on', 'permanent-')\n",
      "('permanent-', 'status')\n",
      "('status', 'issues')\n",
      "('issues', ',')\n",
      "(',', 'Israeli')\n",
      "('Israeli', 'checkpoints')\n",
      "('checkpoints', 'and')\n",
      "('and', 'the')\n",
      "('the', 'fate')\n",
      "('fate', 'of')\n",
      "('of', 'Palestinian')\n",
      "('Palestinian', 'prisoners')\n",
      "('prisoners', '.')\n",
      "('.', 'The')\n",
      "('The', 'meeting')\n",
      "('meeting', ',')\n",
      "(',', 'at')\n",
      "('at', 'Mr.')\n",
      "('Mr.', 'Olmert')\n",
      "('Olmert', \"'s\")\n",
      "(\"'s\", 'official')\n",
      "('official', 'residence')\n",
      "('residence', ',')\n",
      "(',', 'will')\n",
      "('will', 'be')\n",
      "('be', 'the')\n",
      "('the', 'first')\n",
      "('first', 'between')\n",
      "('between', 'the')\n",
      "('the', 'two')\n",
      "('two', 'since')\n",
      "('since', 'Mr.')\n",
      "('Mr.', 'Olmert')\n",
      "('Olmert', 'announced')\n",
      "('announced', 'that')\n",
      "('that', 'he')\n",
      "('he', 'will')\n",
      "('will', 'step')\n",
      "('step', 'down')\n",
      "('down', 'after')\n",
      "('after', 'his')\n",
      "('his', 'Kadima')\n",
      "('Kadima', 'Party')\n",
      "('Party', 'chooses')\n",
      "('chooses', 'a')\n",
      "('a', 'new')\n",
      "('new', 'leader')\n",
      "('leader', 'in')\n",
      "('in', 'September')\n",
      "('September', '.')\n",
      "('.', 'The')\n",
      "('The', 'two')\n",
      "('two', 'leaders')\n",
      "('leaders', 're-started')\n",
      "('re-started', 'peace')\n",
      "('peace', 'talks')\n",
      "('talks', 'in')\n",
      "('in', 'November')\n",
      "('November', 'with')\n",
      "('with', 'the')\n",
      "('the', 'goal')\n",
      "('goal', 'of')\n",
      "('of', 'reaching')\n",
      "('reaching', 'a')\n",
      "('a', 'deal')\n",
      "('deal', 'by')\n",
      "('by', 'this')\n",
      "('this', 'year')\n",
      "('year', \"'s\")\n",
      "(\"'s\", 'end')\n",
      "\n",
      "3-grams >>>>>>>\n",
      "\n",
      "\n",
      "('Israeli', 'Prime', 'Minister')\n",
      "('Prime', 'Minister', 'Ehud')\n",
      "('Minister', 'Ehud', 'Olmert')\n",
      "('Ehud', 'Olmert', 'is')\n",
      "('Olmert', 'is', 'scheduled')\n",
      "('is', 'scheduled', 'to')\n",
      "('scheduled', 'to', 'meet')\n",
      "('to', 'meet', 'with')\n",
      "('meet', 'with', 'Palestinian')\n",
      "('with', 'Palestinian', 'President')\n",
      "('Palestinian', 'President', 'Mahmoud')\n",
      "('President', 'Mahmoud', 'Abbas')\n",
      "('Mahmoud', 'Abbas', 'Wednesday')\n",
      "('Abbas', 'Wednesday', 'in')\n",
      "('Wednesday', 'in', 'Jerusalem')\n",
      "('in', 'Jerusalem', '.')\n",
      "('Jerusalem', '.', 'Palestinian')\n",
      "('.', 'Palestinian', 'negotiator')\n",
      "('Palestinian', 'negotiator', 'Saeb')\n",
      "('negotiator', 'Saeb', 'Erekat')\n",
      "('Saeb', 'Erekat', 'said')\n",
      "('Erekat', 'said', 'the')\n",
      "('said', 'the', 'talks')\n",
      "('the', 'talks', 'will')\n",
      "('talks', 'will', 'focus')\n",
      "('will', 'focus', 'on')\n",
      "('focus', 'on', 'permanent-')\n",
      "('on', 'permanent-', 'status')\n",
      "('permanent-', 'status', 'issues')\n",
      "('status', 'issues', ',')\n",
      "('issues', ',', 'Israeli')\n",
      "(',', 'Israeli', 'checkpoints')\n",
      "('Israeli', 'checkpoints', 'and')\n",
      "('checkpoints', 'and', 'the')\n",
      "('and', 'the', 'fate')\n",
      "('the', 'fate', 'of')\n",
      "('fate', 'of', 'Palestinian')\n",
      "('of', 'Palestinian', 'prisoners')\n",
      "('Palestinian', 'prisoners', '.')\n",
      "('prisoners', '.', 'The')\n",
      "('.', 'The', 'meeting')\n",
      "('The', 'meeting', ',')\n",
      "('meeting', ',', 'at')\n",
      "(',', 'at', 'Mr.')\n",
      "('at', 'Mr.', 'Olmert')\n",
      "('Mr.', 'Olmert', \"'s\")\n",
      "('Olmert', \"'s\", 'official')\n",
      "(\"'s\", 'official', 'residence')\n",
      "('official', 'residence', ',')\n",
      "('residence', ',', 'will')\n",
      "(',', 'will', 'be')\n",
      "('will', 'be', 'the')\n",
      "('be', 'the', 'first')\n",
      "('the', 'first', 'between')\n",
      "('first', 'between', 'the')\n",
      "('between', 'the', 'two')\n",
      "('the', 'two', 'since')\n",
      "('two', 'since', 'Mr.')\n",
      "('since', 'Mr.', 'Olmert')\n",
      "('Mr.', 'Olmert', 'announced')\n",
      "('Olmert', 'announced', 'that')\n",
      "('announced', 'that', 'he')\n",
      "('that', 'he', 'will')\n",
      "('he', 'will', 'step')\n",
      "('will', 'step', 'down')\n",
      "('step', 'down', 'after')\n",
      "('down', 'after', 'his')\n",
      "('after', 'his', 'Kadima')\n",
      "('his', 'Kadima', 'Party')\n",
      "('Kadima', 'Party', 'chooses')\n",
      "('Party', 'chooses', 'a')\n",
      "('chooses', 'a', 'new')\n",
      "('a', 'new', 'leader')\n",
      "('new', 'leader', 'in')\n",
      "('leader', 'in', 'September')\n",
      "('in', 'September', '.')\n",
      "('September', '.', 'The')\n",
      "('.', 'The', 'two')\n",
      "('The', 'two', 'leaders')\n",
      "('two', 'leaders', 're-started')\n",
      "('leaders', 're-started', 'peace')\n",
      "('re-started', 'peace', 'talks')\n",
      "('peace', 'talks', 'in')\n",
      "('talks', 'in', 'November')\n",
      "('in', 'November', 'with')\n",
      "('November', 'with', 'the')\n",
      "('with', 'the', 'goal')\n",
      "('the', 'goal', 'of')\n",
      "('goal', 'of', 'reaching')\n",
      "('of', 'reaching', 'a')\n",
      "('reaching', 'a', 'deal')\n",
      "('a', 'deal', 'by')\n",
      "('deal', 'by', 'this')\n",
      "('by', 'this', 'year')\n",
      "('this', 'year', \"'s\")\n",
      "('year', \"'s\", 'end')\n",
      "\n",
      "4-grams >>>>>>>\n",
      "\n",
      "\n",
      "('Israeli', 'Prime', 'Minister', 'Ehud')\n",
      "('Prime', 'Minister', 'Ehud', 'Olmert')\n",
      "('Minister', 'Ehud', 'Olmert', 'is')\n",
      "('Ehud', 'Olmert', 'is', 'scheduled')\n",
      "('Olmert', 'is', 'scheduled', 'to')\n",
      "('is', 'scheduled', 'to', 'meet')\n",
      "('scheduled', 'to', 'meet', 'with')\n",
      "('to', 'meet', 'with', 'Palestinian')\n",
      "('meet', 'with', 'Palestinian', 'President')\n",
      "('with', 'Palestinian', 'President', 'Mahmoud')\n",
      "('Palestinian', 'President', 'Mahmoud', 'Abbas')\n",
      "('President', 'Mahmoud', 'Abbas', 'Wednesday')\n",
      "('Mahmoud', 'Abbas', 'Wednesday', 'in')\n",
      "('Abbas', 'Wednesday', 'in', 'Jerusalem')\n",
      "('Wednesday', 'in', 'Jerusalem', '.')\n",
      "('in', 'Jerusalem', '.', 'Palestinian')\n",
      "('Jerusalem', '.', 'Palestinian', 'negotiator')\n",
      "('.', 'Palestinian', 'negotiator', 'Saeb')\n",
      "('Palestinian', 'negotiator', 'Saeb', 'Erekat')\n",
      "('negotiator', 'Saeb', 'Erekat', 'said')\n",
      "('Saeb', 'Erekat', 'said', 'the')\n",
      "('Erekat', 'said', 'the', 'talks')\n",
      "('said', 'the', 'talks', 'will')\n",
      "('the', 'talks', 'will', 'focus')\n",
      "('talks', 'will', 'focus', 'on')\n",
      "('will', 'focus', 'on', 'permanent-')\n",
      "('focus', 'on', 'permanent-', 'status')\n",
      "('on', 'permanent-', 'status', 'issues')\n",
      "('permanent-', 'status', 'issues', ',')\n",
      "('status', 'issues', ',', 'Israeli')\n",
      "('issues', ',', 'Israeli', 'checkpoints')\n",
      "(',', 'Israeli', 'checkpoints', 'and')\n",
      "('Israeli', 'checkpoints', 'and', 'the')\n",
      "('checkpoints', 'and', 'the', 'fate')\n",
      "('and', 'the', 'fate', 'of')\n",
      "('the', 'fate', 'of', 'Palestinian')\n",
      "('fate', 'of', 'Palestinian', 'prisoners')\n",
      "('of', 'Palestinian', 'prisoners', '.')\n",
      "('Palestinian', 'prisoners', '.', 'The')\n",
      "('prisoners', '.', 'The', 'meeting')\n",
      "('.', 'The', 'meeting', ',')\n",
      "('The', 'meeting', ',', 'at')\n",
      "('meeting', ',', 'at', 'Mr.')\n",
      "(',', 'at', 'Mr.', 'Olmert')\n",
      "('at', 'Mr.', 'Olmert', \"'s\")\n",
      "('Mr.', 'Olmert', \"'s\", 'official')\n",
      "('Olmert', \"'s\", 'official', 'residence')\n",
      "(\"'s\", 'official', 'residence', ',')\n",
      "('official', 'residence', ',', 'will')\n",
      "('residence', ',', 'will', 'be')\n",
      "(',', 'will', 'be', 'the')\n",
      "('will', 'be', 'the', 'first')\n",
      "('be', 'the', 'first', 'between')\n",
      "('the', 'first', 'between', 'the')\n",
      "('first', 'between', 'the', 'two')\n",
      "('between', 'the', 'two', 'since')\n",
      "('the', 'two', 'since', 'Mr.')\n",
      "('two', 'since', 'Mr.', 'Olmert')\n",
      "('since', 'Mr.', 'Olmert', 'announced')\n",
      "('Mr.', 'Olmert', 'announced', 'that')\n",
      "('Olmert', 'announced', 'that', 'he')\n",
      "('announced', 'that', 'he', 'will')\n",
      "('that', 'he', 'will', 'step')\n",
      "('he', 'will', 'step', 'down')\n",
      "('will', 'step', 'down', 'after')\n",
      "('step', 'down', 'after', 'his')\n",
      "('down', 'after', 'his', 'Kadima')\n",
      "('after', 'his', 'Kadima', 'Party')\n",
      "('his', 'Kadima', 'Party', 'chooses')\n",
      "('Kadima', 'Party', 'chooses', 'a')\n",
      "('Party', 'chooses', 'a', 'new')\n",
      "('chooses', 'a', 'new', 'leader')\n",
      "('a', 'new', 'leader', 'in')\n",
      "('new', 'leader', 'in', 'September')\n",
      "('leader', 'in', 'September', '.')\n",
      "('in', 'September', '.', 'The')\n",
      "('September', '.', 'The', 'two')\n",
      "('.', 'The', 'two', 'leaders')\n",
      "('The', 'two', 'leaders', 're-started')\n",
      "('two', 'leaders', 're-started', 'peace')\n",
      "('leaders', 're-started', 'peace', 'talks')\n",
      "('re-started', 'peace', 'talks', 'in')\n",
      "('peace', 'talks', 'in', 'November')\n",
      "('talks', 'in', 'November', 'with')\n",
      "('in', 'November', 'with', 'the')\n",
      "('November', 'with', 'the', 'goal')\n",
      "('with', 'the', 'goal', 'of')\n",
      "('the', 'goal', 'of', 'reaching')\n",
      "('goal', 'of', 'reaching', 'a')\n",
      "('of', 'reaching', 'a', 'deal')\n",
      "('reaching', 'a', 'deal', 'by')\n",
      "('a', 'deal', 'by', 'this')\n",
      "('deal', 'by', 'this', 'year')\n",
      "('by', 'this', 'year', \"'s\")\n",
      "('this', 'year', \"'s\", 'end')\n",
      "\n",
      "5-grams >>>>>>>\n",
      "\n",
      "\n",
      "('Israeli', 'Prime', 'Minister', 'Ehud', 'Olmert')\n",
      "('Prime', 'Minister', 'Ehud', 'Olmert', 'is')\n",
      "('Minister', 'Ehud', 'Olmert', 'is', 'scheduled')\n",
      "('Ehud', 'Olmert', 'is', 'scheduled', 'to')\n",
      "('Olmert', 'is', 'scheduled', 'to', 'meet')\n",
      "('is', 'scheduled', 'to', 'meet', 'with')\n",
      "('scheduled', 'to', 'meet', 'with', 'Palestinian')\n",
      "('to', 'meet', 'with', 'Palestinian', 'President')\n",
      "('meet', 'with', 'Palestinian', 'President', 'Mahmoud')\n",
      "('with', 'Palestinian', 'President', 'Mahmoud', 'Abbas')\n",
      "('Palestinian', 'President', 'Mahmoud', 'Abbas', 'Wednesday')\n",
      "('President', 'Mahmoud', 'Abbas', 'Wednesday', 'in')\n",
      "('Mahmoud', 'Abbas', 'Wednesday', 'in', 'Jerusalem')\n",
      "('Abbas', 'Wednesday', 'in', 'Jerusalem', '.')\n",
      "('Wednesday', 'in', 'Jerusalem', '.', 'Palestinian')\n",
      "('in', 'Jerusalem', '.', 'Palestinian', 'negotiator')\n",
      "('Jerusalem', '.', 'Palestinian', 'negotiator', 'Saeb')\n",
      "('.', 'Palestinian', 'negotiator', 'Saeb', 'Erekat')\n",
      "('Palestinian', 'negotiator', 'Saeb', 'Erekat', 'said')\n",
      "('negotiator', 'Saeb', 'Erekat', 'said', 'the')\n",
      "('Saeb', 'Erekat', 'said', 'the', 'talks')\n",
      "('Erekat', 'said', 'the', 'talks', 'will')\n",
      "('said', 'the', 'talks', 'will', 'focus')\n",
      "('the', 'talks', 'will', 'focus', 'on')\n",
      "('talks', 'will', 'focus', 'on', 'permanent-')\n",
      "('will', 'focus', 'on', 'permanent-', 'status')\n",
      "('focus', 'on', 'permanent-', 'status', 'issues')\n",
      "('on', 'permanent-', 'status', 'issues', ',')\n",
      "('permanent-', 'status', 'issues', ',', 'Israeli')\n",
      "('status', 'issues', ',', 'Israeli', 'checkpoints')\n",
      "('issues', ',', 'Israeli', 'checkpoints', 'and')\n",
      "(',', 'Israeli', 'checkpoints', 'and', 'the')\n",
      "('Israeli', 'checkpoints', 'and', 'the', 'fate')\n",
      "('checkpoints', 'and', 'the', 'fate', 'of')\n",
      "('and', 'the', 'fate', 'of', 'Palestinian')\n",
      "('the', 'fate', 'of', 'Palestinian', 'prisoners')\n",
      "('fate', 'of', 'Palestinian', 'prisoners', '.')\n",
      "('of', 'Palestinian', 'prisoners', '.', 'The')\n",
      "('Palestinian', 'prisoners', '.', 'The', 'meeting')\n",
      "('prisoners', '.', 'The', 'meeting', ',')\n",
      "('.', 'The', 'meeting', ',', 'at')\n",
      "('The', 'meeting', ',', 'at', 'Mr.')\n",
      "('meeting', ',', 'at', 'Mr.', 'Olmert')\n",
      "(',', 'at', 'Mr.', 'Olmert', \"'s\")\n",
      "('at', 'Mr.', 'Olmert', \"'s\", 'official')\n",
      "('Mr.', 'Olmert', \"'s\", 'official', 'residence')\n",
      "('Olmert', \"'s\", 'official', 'residence', ',')\n",
      "(\"'s\", 'official', 'residence', ',', 'will')\n",
      "('official', 'residence', ',', 'will', 'be')\n",
      "('residence', ',', 'will', 'be', 'the')\n",
      "(',', 'will', 'be', 'the', 'first')\n",
      "('will', 'be', 'the', 'first', 'between')\n",
      "('be', 'the', 'first', 'between', 'the')\n",
      "('the', 'first', 'between', 'the', 'two')\n",
      "('first', 'between', 'the', 'two', 'since')\n",
      "('between', 'the', 'two', 'since', 'Mr.')\n",
      "('the', 'two', 'since', 'Mr.', 'Olmert')\n",
      "('two', 'since', 'Mr.', 'Olmert', 'announced')\n",
      "('since', 'Mr.', 'Olmert', 'announced', 'that')\n",
      "('Mr.', 'Olmert', 'announced', 'that', 'he')\n",
      "('Olmert', 'announced', 'that', 'he', 'will')\n",
      "('announced', 'that', 'he', 'will', 'step')\n",
      "('that', 'he', 'will', 'step', 'down')\n",
      "('he', 'will', 'step', 'down', 'after')\n",
      "('will', 'step', 'down', 'after', 'his')\n",
      "('step', 'down', 'after', 'his', 'Kadima')\n",
      "('down', 'after', 'his', 'Kadima', 'Party')\n",
      "('after', 'his', 'Kadima', 'Party', 'chooses')\n",
      "('his', 'Kadima', 'Party', 'chooses', 'a')\n",
      "('Kadima', 'Party', 'chooses', 'a', 'new')\n",
      "('Party', 'chooses', 'a', 'new', 'leader')\n",
      "('chooses', 'a', 'new', 'leader', 'in')\n",
      "('a', 'new', 'leader', 'in', 'September')\n",
      "('new', 'leader', 'in', 'September', '.')\n",
      "('leader', 'in', 'September', '.', 'The')\n",
      "('in', 'September', '.', 'The', 'two')\n",
      "('September', '.', 'The', 'two', 'leaders')\n",
      "('.', 'The', 'two', 'leaders', 're-started')\n",
      "('The', 'two', 'leaders', 're-started', 'peace')\n",
      "('two', 'leaders', 're-started', 'peace', 'talks')\n",
      "('leaders', 're-started', 'peace', 'talks', 'in')\n",
      "('re-started', 'peace', 'talks', 'in', 'November')\n",
      "('peace', 'talks', 'in', 'November', 'with')\n",
      "('talks', 'in', 'November', 'with', 'the')\n",
      "('in', 'November', 'with', 'the', 'goal')\n",
      "('November', 'with', 'the', 'goal', 'of')\n",
      "('with', 'the', 'goal', 'of', 'reaching')\n",
      "('the', 'goal', 'of', 'reaching', 'a')\n",
      "('goal', 'of', 'reaching', 'a', 'deal')\n",
      "('of', 'reaching', 'a', 'deal', 'by')\n",
      "('reaching', 'a', 'deal', 'by', 'this')\n",
      "('a', 'deal', 'by', 'this', 'year')\n",
      "('deal', 'by', 'this', 'year', \"'s\")\n",
      "('by', 'this', 'year', \"'s\", 'end')\n"
     ]
    }
   ],
   "source": [
    "import nltk #N-grams\n",
    "from nltk import ngrams\n",
    "sent = (\"Israeli Prime Minister Ehud Olmert is scheduled to meet with Palestinian President Mahmoud Abbas Wednesday in Jerusalem. Palestinian negotiator Saeb Erekat said the talks will focus on permanent- status issues, Israeli checkpoints and the fate of Palestinian prisoners. The meeting, at Mr. Olmert's official residence, will be the first between the two since Mr. Olmert announced that he will step down after his Kadima Party chooses a new leader in September. The two leaders re-started peace talks in November with the goal of reaching a deal by this year's end\")\n",
    "tokenised = nltk.word_tokenize(sent)\n",
    "\n",
    "for n in range(2, 6):\n",
    "    print(f\"\\n{n}-grams >>>>>>>\\n\\n\")\n",
    "\n",
    "    for gram in ngrams(tokenised, n):\n",
    "        print(gram)"
   ]
  },
  {
   "cell_type": "code",
   "execution_count": null,
   "id": "inside-gossip",
   "metadata": {},
   "outputs": [
    {
     "data": {
      "text/plain": [
       "['Sweden',\n",
       " 'Sweden',\n",
       " 'Sweden',\n",
       " 'Sweden',\n",
       " 'Sweden',\n",
       " 'Sweden',\n",
       " 'Sweden',\n",
       " 'Sweden',\n",
       " 'Sweden']"
      ]
     },
     "execution_count": 34,
     "metadata": {},
     "output_type": "execute_result"
    }
   ],
   "source": [
    "#regular expression\n",
    "import re\n",
    "\n",
    "# Match all Sweden\n",
    "re.findall(r\"Sweden\", corpusText)"
   ]
  },
  {
   "cell_type": "code",
   "execution_count": null,
   "id": "neither-prediction",
   "metadata": {},
   "outputs": [
    {
     "data": {
      "text/plain": [
       "['the UK third behind Sweden and Ireland for bus',\n",
       " 'ly, Switzerland and Sweden will be stored perm',\n",
       " 'l sides of Ireland, Sweden and Norway. Shares ',\n",
       " 'end up producing in Sweden?\"',\n",
       " ' build Cadillacs in Sweden',\n",
       " 'ing Saab factory in Sweden.',\n",
       " 'lloyed good news in Sweden, since it reflects ',\n",
       " ' American marque in Sweden is part of its effo',\n",
       " 'illac production to Sweden should help introdu']"
      ]
     },
     "execution_count": 45,
     "metadata": {},
     "output_type": "execute_result"
    }
   ],
   "source": [
    "re.findall(\".{0,20}Sweden.{0,20}\", corpusText) #extract Sweden plus snippet around"
   ]
  },
  {
   "cell_type": "code",
   "execution_count": 58,
   "id": "academic-ribbon",
   "metadata": {},
   "outputs": [
    {
     "name": "stdout",
     "output_type": "stream",
     "text": [
      "units Opel and Saab have both had\n",
      "Saab to build Cadillacs\n",
      "its loss-making Saab factory in Sweden\n",
      "fears of the Saab factory's closure\n",
      "since it reflects Saab's failure to\n",
      "market. For years, Saab has consistently said\n",
      "scale to the Saab factory, which currently\n",
      "profitable operations, and Saab is losing money\n",
      "expenditure by building Saab\n",
      "to further reduce Saab's losses could\n",
      "the production of Saab\n",
      "which is making Saab\n"
     ]
    }
   ],
   "source": [
    "for groups in re.findall(r\"((\\w+[^\\w\\n\\r]+){0,3}SAAB([^\\w\\n\\r]+\\w+){0,3})\", corpusText, flags=re.RegexFlag.IGNORECASE):\n",
    "    print(groups[0])\n",
    "    "
   ]
  },
  {
   "cell_type": "code",
   "execution_count": null,
   "id": "worthy-collar",
   "metadata": {},
   "outputs": [
    {
     "name": "stdout",
     "output_type": "stream",
     "text": [
      "Saab to build Cadillacs in Sweden\n",
      "its loss-making Saab factory in Sweden\n",
      "good news in Sweden, since it reflects Saab's failure to\n",
      "Cadillac production to Sweden should help introduce desperately-needed scale to the Saab factory, which currently\n"
     ]
    }
   ],
   "source": [
    "for groups in re.findall(r\"((\\w+[^\\w\\n\\r]+){0,3}(Sweden.{0,1000}SAAB|SAAB.{0,1000}Sweden)([^\\w\\n\\r]+\\w+){0,3})\", corpusText, flags=re.RegexFlag.IGNORECASE):\n",
    "    print(groups[0])\n",
    "#get both Sweden and Saab in the same context"
   ]
  },
  {
   "cell_type": "code",
   "execution_count": null,
   "id": "essential-scientist",
   "metadata": {},
   "outputs": [
    {
     "name": "stdout",
     "output_type": "stream",
     "text": [
      "\n",
      "UK >>>>>>>>> \n",
      "\n",
      "\n",
      "['Europe, placed the UK third behind Sweden and Ireland for', 'Italy, Switzerland and Sweden will be stored permanently in the UK. At the moment']\n",
      "\n",
      "Intermediate >>>>>>>>> \n",
      "\n",
      "\n",
      "['under armed guard. Intermediate waste from countries such as Japan, Germany, Spain, Italy, Switzerland and Sweden will be stored']\n",
      "\n",
      "European >>>>>>>>> \n",
      "\n",
      "\n",
      "[\"good news in Sweden, since it reflects Saab's failure to make significant inroads into the lucrative European luxury car market\", 'American marque in Sweden is part of its efforts to push it as an alternative luxury brand for European drivers. In the']\n",
      "\n",
      "ICT >>>>>>>>> \n",
      "\n",
      "\n",
      "['UK third behind Sweden and Ireland for business use of ICT']\n",
      "\n",
      "US >>>>>>>>> \n",
      "\n",
      "\n",
      "['American marque in Sweden is part of its efforts to push it as an alternative luxury brand for European drivers. In the US, it has long']\n",
      "\n",
      "GM >>>>>>>>> \n",
      "\n",
      "\n",
      "[\"GM's plans to build the American marque in Sweden is part of\"]\n",
      "\n",
      "Cadillac >>>>>>>>> \n",
      "\n",
      "\n",
      "['Saab to build Cadillacs in Sweden', 'new medium-sized Cadillac BLS at its loss-making Saab factory in Sweden', 'Bringing Cadillac production to Sweden should help introduce']\n",
      "\n",
      "American >>>>>>>>> \n",
      "\n",
      "\n",
      "['to build the American marque in Sweden is part of']\n",
      "\n",
      "Sellafield >>>>>>>>> \n",
      "\n",
      "\n",
      "['Italy, Switzerland and Sweden will be stored permanently in the UK. At the moment, this waste is stored at Sellafield, in Cumbria, in']\n",
      "\n",
      "HI Europe >>>>>>>>> \n",
      "\n",
      "\n",
      "['Allen Hamilton and HI Europe, placed the UK third behind Sweden and Ireland for']\n",
      "\n",
      "Saab >>>>>>>>> \n",
      "\n",
      "\n",
      "['Saab to build Cadillacs in Sweden', 'its loss-making Saab factory in Sweden', \"good news in Sweden, since it reflects Saab's failure to\", 'Cadillac production to Sweden should help introduce desperately-needed scale to the Saab factory, which currently']\n"
     ]
    }
   ],
   "source": [
    "organizations = [n for n in chunkedCorpus if isinstance(n, nltk.tree.Tree) and n.label() == \"ORGANIZATION\"]\n",
    "organizations = set([\" \".join([leave[0] for leave in org.leaves()]) for org in organizations])\n",
    "\n",
    "for org in organizations:\n",
    "    strings = []\n",
    "\n",
    "    for groups in re.findall(r\"((\\w+[^\\w\\n\\r]+){0,3}(Sweden.{0,100}\" + org + \"|\" + org + r\".{0,100}Sweden)([^\\w\\n\\r]+\\w+){0,3})\", corpusText):\n",
    "        strings.append(groups[0])\n",
    "\n",
    "    if strings:\n",
    "        print(f\"\\n{org} >>>>>>>>> \\n\\n\")\n",
    "        print(strings)\n",
    "\n",
    "#Match all organisations that is close to Sweden in the BBC corpus and print the snippets.\n"
   ]
  }
 ],
 "metadata": {
  "kernelspec": {
   "display_name": "Python 3",
   "language": "python",
   "name": "python3"
  },
  "language_info": {
   "codemirror_mode": {
    "name": "ipython",
    "version": 3
   },
   "file_extension": ".py",
   "mimetype": "text/x-python",
   "name": "python",
   "nbconvert_exporter": "python",
   "pygments_lexer": "ipython3",
   "version": "3.11.5"
  }
 },
 "nbformat": 4,
 "nbformat_minor": 5
}
