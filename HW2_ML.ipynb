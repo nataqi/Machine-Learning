{
  "cells": [
    {
      "cell_type": "markdown",
      "metadata": {
        "id": "e7vPaIoU4pqD"
      },
      "source": [
        "neural network from scratch only with NumPy\n"
      ]
    },
    {
      "cell_type": "code",
      "execution_count": 1,
      "metadata": {
        "id": "VA351vjdly0R"
      },
      "outputs": [],
      "source": [
        "import numpy as np\n",
        "import matplotlib.pyplot as plt\n",
        "from sklearn.datasets import fetch_openml\n",
        "from sklearn.model_selection import train_test_split, RandomizedSearchCV\n",
        "from sklearn.base import BaseEstimator, TransformerMixin\n",
        "from sklearn.pipeline import Pipeline\n",
        "RANDOM_STATE = 12579"
      ]
    },
    {
      "cell_type": "markdown",
      "metadata": {
        "id": "nCm_Zo2W8Q22"
      },
      "source": [
        "The MNIST dataset with handwritten digits"
      ]
    },
    {
      "cell_type": "markdown",
      "metadata": {
        "id": "aPqJ7jTk7aaG"
      },
      "source": [
        "![alt text](https://dezyre.gumlet.net/images/Exploring+MNIST+Dataset+using+PyTorch+to+Train+an+MLP/MNIST+Dataset.png?w=900&dpr=1.0)"
      ]
    },
    {
      "cell_type": "code",
      "execution_count": 2,
      "metadata": {
        "id": "CmAMpQXwdq4t"
      },
      "outputs": [
        {
          "name": "stderr",
          "output_type": "stream",
          "text": [
            "C:\\Users\\Nataqi\\AppData\\Local\\Packages\\PythonSoftwareFoundation.Python.3.10_qbz5n2kfra8p0\\LocalCache\\local-packages\\Python310\\site-packages\\sklearn\\datasets\\_openml.py:968: FutureWarning: The default value of `parser` will change from `'liac-arff'` to `'auto'` in 1.4. You can set `parser='auto'` to silence this warning. Therefore, an `ImportError` will be raised from 1.4 if the dataset is dense and pandas is not installed. Note that the pandas parser may return different data types. See the Notes Section in fetch_openml's API doc for details.\n",
            "  warn(\n"
          ]
        }
      ],
      "source": [
        "X, y = fetch_openml(\"mnist_784\", version=1, return_X_y=True, as_frame=False)"
      ]
    },
    {
      "cell_type": "code",
      "execution_count": 3,
      "metadata": {
        "id": "gVuTqRrtlb44"
      },
      "outputs": [
        {
          "data": {
            "text/plain": [
              "((70000, 784), (70000,))"
            ]
          },
          "execution_count": 3,
          "metadata": {},
          "output_type": "execute_result"
        }
      ],
      "source": [
        "X.shape, y.shape"
      ]
    },
    {
      "cell_type": "code",
      "execution_count": null,
      "metadata": {
        "id": "YNAjbM-Z8ixF"
      },
      "outputs": [
        {
          "data": {
            "text/plain": [
              "<BarContainer object of 10 artists>"
            ]
          },
          "execution_count": 4,
          "metadata": {},
          "output_type": "execute_result"
        },
        {
          "data": {
            "image/png": "[encoded data removed]",
            "text/plain": [
              "<Figure size 640x480 with 1 Axes>"
            ]
          },
          "metadata": {},
          "output_type": "display_data"
        }
      ],
      "source": [
        "plt.bar(np.unique(y, return_counts = True)[0], np.unique(y, return_counts = True)[1]) #class distribution."
      ]
    },
    {
      "cell_type": "code",
      "execution_count": null,
      "metadata": {
        "id": "GzXvdYtlmNqi"
      },
      "outputs": [],
      "source": [
        "X_normalized = X/255 #normalization (devide by 255 because dataset is digits till 255)"
      ]
    },
    {
      "cell_type": "code",
      "execution_count": 7,
      "metadata": {
        "id": "vfx0EL0wmoyU"
      },
      "outputs": [],
      "source": [
        "y_integer = y.astype(int)"
      ]
    },
    {
      "cell_type": "code",
      "execution_count": 8,
      "metadata": {
        "id": "SiERfT0gddu1"
      },
      "outputs": [],
      "source": [
        "X_train, X_test, y_train, y_test = train_test_split(X_normalized, y_integer, random_state = RANDOM_STATE, test_size=0.2, shuffle = True, stratify = y_integer)"
      ]
    },
    {
      "cell_type": "markdown",
      "metadata": {
        "id": "vcUJo3uj6sCa"
      },
      "source": [
        "Please print the mean and the standard deviation of `X_train` here (for validation purpose)."
      ]
    },
    {
      "cell_type": "code",
      "execution_count": 9,
      "metadata": {
        "id": "1mujB3I56rjw"
      },
      "outputs": [
        {
          "data": {
            "text/plain": [
              "(0.13095012531798408, 0.30847760515635225)"
            ]
          },
          "execution_count": 9,
          "metadata": {},
          "output_type": "execute_result"
        }
      ],
      "source": [
        "X_train.mean(), X_train.std()"
      ]
    },
    {
      "cell_type": "code",
      "execution_count": null,
      "metadata": {
        "colab": {
          "base_uri": "https://localhost:8080/",
          "height": 224
        },
        "id": "TzRs98dodeAF",
        "outputId": "3a6fd962-3567-4616-e2c3-6e6116da3583"
      },
      "outputs": [
        {
          "data": {
            "image/png": "[encoded data removed]",
            "text/plain": [
              "<Figure size 640x480 with 10 Axes>"
            ]
          },
          "metadata": {},
          "output_type": "display_data"
        }
      ],
      "source": [
        "fig, ax = plt.subplots(nrows=2, ncols=5, sharex=True, sharey=True) #check some instances\n",
        "ax = ax.flatten()\n",
        "for i in range(10):\n",
        "  img = X_train[y_train == i][0].reshape(28, 28)\n",
        "  ax[i].imshow(img, cmap='Greys')\n",
        "ax[0].set_xticks([])\n",
        "ax[0].set_yticks([])\n",
        "plt.tight_layout()\n",
        "plt.show()"
      ]
    },
    {
      "cell_type": "markdown",
      "metadata": {
        "id": "baT1IBRFqrBJ"
      },
      "source": [
        "## 2. Helper functions"
      ]
    },
    {
      "cell_type": "markdown",
      "metadata": {
        "id": "tVROBu9_py1h"
      },
      "source": [
        "First, you need to fix the labels, which are now in a sparse form, to have a one-hot encoded form for better computation of error terms using NumPy's vectorization. Let's create a function that receives a label vector and transform it into a one-hot encoded label matrix.\n",
        "\n",
        "- Complete the `one_hot` function."
      ]
    },
    {
      "cell_type": "code",
      "execution_count": null,
      "metadata": {
        "id": "msvnKGsR0yUS"
      },
      "outputs": [],
      "source": [
        "def one_hot(y): #one-hot encoded representation of the labels.\n",
        "   \n",
        "  one_hot_arr = np.zeros(shape = (len(y), len(np.unique(y))))\n",
        "  one_hot_arr[np.arange(len(y)), y]= 1\n",
        "\n",
        "  return one_hot_arr\n"
      ]
    },
    {
      "cell_type": "code",
      "execution_count": null,
      "metadata": {
        "id": "sGFbZ_tN00WK"
      },
      "outputs": [
        {
          "data": {
            "text/plain": [
              "array([[0., 1., 0., 0.],\n",
              "       [1., 0., 0., 0.],\n",
              "       [0., 0., 1., 0.],\n",
              "       [0., 0., 0., 1.]])"
            ]
          },
          "execution_count": 12,
          "metadata": {},
          "output_type": "execute_result"
        }
      ],
      "source": [
        "one_hot(np.array([1,0,2,3])) #test"
      ]
    },
    {
      "cell_type": "markdown",
      "metadata": {
        "id": "7niKihIdpYa5"
      },
      "source": [
        "Next, you may also need a sigmoid function for the output values as you are dealing with a classification problem. Sigmoid can be represented as follows:\n",
        "\n",
        "$$ h_ \\theta (x) =  \\frac{\\mathrm{1} }{\\mathrm{1} + e^{-x} }  $$\n",
        "\n",
        "\n",
        "- Complete the sigmoid function below that supports both vectors and scalars (this can be automatically handled if you use NumPy)."
      ]
    },
    {
      "cell_type": "code",
      "execution_count": null,
      "metadata": {
        "id": "hFSCiidT1Drz"
      },
      "outputs": [],
      "source": [
        "def sigmoid(x): #input vector or scalar value, output sigmoid-transformed vector or scalar value\n",
        "  sigmoid = 1/( 1 + np.exp(-x))\n",
        "\n",
        "  return sigmoid"
      ]
    },
    {
      "cell_type": "code",
      "execution_count": null,
      "metadata": {
        "id": "3fJNnW22qMQ0"
      },
      "outputs": [
        {
          "data": {
            "text/plain": [
              "array([1. , 0. , 0.5])"
            ]
          },
          "execution_count": 14,
          "metadata": {},
          "output_type": "execute_result"
        }
      ],
      "source": [
        "sigmoid(np.array([np.inf, -np.inf, 0])) #test"
      ]
    },
    {
      "cell_type": "code",
      "execution_count": null,
      "metadata": {
        "id": "UxEdUv9hmiTd"
      },
      "outputs": [],
      "source": [
        "class FullyConnectedNetwork(BaseEstimator, TransformerMixin):\n",
        "    def __init__(self, n_hidden=30, l2= 0., l1=0., epochs=100, eta=0.001, validation_rate = 0.3,\n",
        "                 shuffle=True, batch_size=1, init_technique = \"normal\", seed=None, debug=True):\n",
        "\n",
        "        \"\"\"\n",
        "          - n_hidden: Number of hidden nodes.\n",
        "          - l2: Lambda value for L2-regularization.\n",
        "          - l1: Lambda value for L1-regularization.\n",
        "          - epochs: Number of passes over the training set.\n",
        "          - eta: Learning rate.\n",
        "          - validation_rate: size of the validation set.\n",
        "          - shuffle: Enabling shuffling option of the dataset every epoch.\n",
        "          - batch_size: Number of training examples per batch.\n",
        "          - init_technique: Indicator for an initialization technique.\n",
        "          - seed: Random seed for initializing weights and shuffling.\n",
        "        \"\"\"\n",
        "        self.seed = seed\n",
        "        self.random = np.random.default_rng(seed) \n",
        "\n",
        "        self.n_hidden = n_hidden\n",
        "        self.l2 = l2\n",
        "        self.l1 = l1\n",
        "        self.epochs = epochs\n",
        "        self.eta = eta\n",
        "        self.validation_rate = validation_rate\n",
        "        self.shuffle = shuffle\n",
        "        self.batch_size = batch_size\n",
        "        self.debug = debug\n",
        "        self.init_technique = init_technique\n",
        "\n",
        "    def compile(self, n_features, n_outputs): #Initializing the weights of the model\n",
        "    \n",
        "        self.B = []\n",
        "        self.W = []\n",
        "\n",
        "        init_mean = 0\n",
        "        std_init_normal = 0.2\n",
        "        std_init_xavier = np.sqrt(2/(n_features + n_outputs))\n",
        "        std_init_xi = np.sqrt(2/n_features)\n",
        "\n",
        "        b_h = np.zeros(self.n_hidden)\n",
        "\n",
        "        if self.init_technique == \"normal\":\n",
        "            w_h = self.random.normal(loc = init_mean, scale = std_init_normal, size = (n_features, self.n_hidden))\n",
        "        elif self.init_technique == \"xavier\":\n",
        "            w_h = self.random.normal(loc = init_mean, scale = std_init_xavier, size = (n_features, self.n_hidden))\n",
        "        elif self.init_technique == \"he\":\n",
        "            w_h = self.random.normal(loc =  init_mean, scale = std_init_xi, size = (n_features, self.n_hidden))\n",
        "           \n",
        "    \n",
        "        # 2. Append bias to self.B and weights to self.W\n",
        "        self.B.append(b_h)\n",
        "        self.W.append(w_h)\n",
        "\n",
        "        # 3. Creating weights and bias for [hidden -> output]\n",
        "\n",
        "        b_out = np.zeros(n_outputs)\n",
        "\n",
        "        if self.init_technique == \"normal\":\n",
        "            w_out = self.random.normal(loc = init_mean, scale = std_init_normal, size = (self.n_hidden, n_outputs))\n",
        "        elif self.init_technique == \"xavier\":\n",
        "            w_out = self.random.normal(loc = init_mean, scale = std_init_xavier, size = (self.n_hidden, n_outputs))\n",
        "        elif self.init_technique == \"he\":\n",
        "            w_out = self.random.normal(loc =  init_mean, scale = std_init_xi, size = (self.n_hidden, n_outputs))\n",
        "\n",
        "        # 4. Append bias to self.B and weights to self.W\n",
        "        self.B.append(b_out)\n",
        "        self.W.append(w_out)\n",
        "\n",
        "\n",
        "    def forward(self, X): #Given the dataset X, compute forward propagation step with the weights and bias saved in the list.\n",
        "        \n",
        "        Z = []\n",
        "        A = []\n",
        "\n",
        "        input_dot = np.dot(X, self.W[0]) + self.B[0] #the first XW+b.\n",
        "        Z.append(input_dot)\n",
        "        \n",
        "        A.append(sigmoid(input_dot)) #activation of hidden layer\n",
        "\n",
        "        output_dot = np.dot(A[0], self.W[1]) + self.B[1]  #the second XW+b.\n",
        "        Z.append(output_dot) \n",
        "\n",
        "        A.append(sigmoid(output_dot)) #activation output layer\n",
        "\n",
        "        return Z, A\n",
        "\n",
        "    def predict(self, X): # Predict class labels by performing forward propagation.\n",
        "    \n",
        "        Z, A = self.forward(X)\n",
        "        y_pred = np.argmax(A[-1], axis = 1)\n",
        "\n",
        "        return y_pred\n",
        "      \n",
        "\n",
        "    def cost(self, y_truth, y_pred): # cost for the classification task.The network supports Elastic net (combination of l1 and l2 with corresponding weights).\n",
        "\n",
        "\n",
        "        L1_term = self.l1 * (np.sum(np.abs(self.W[0])) + np.sum(np.abs(self.W[1])))\n",
        "        L2_term = self.l2 * np.sum(self.W[0]**2) + np.sum(self.W[1]**2)\n",
        "        cost = np.sum(-y_truth * np.log(y_pred) - (1 - y_truth) * np.log(1 - y_pred)) + L1_term + L2_term\n",
        "\n",
        "        return cost\n",
        "\n",
        "\n",
        "\n",
        "    def back_propagation(self, X_train, batch_idx, A, y_truth): #back propagation based on the result of forward propagation and true labels (for each batch)\n",
        "      \n",
        "      delta_out = A[-1] - y_truth[batch_idx]  \n",
        "      grad_w_out = np.dot(A[0].T, delta_out)\n",
        "      grad_b_out = np.sum(delta_out, axis=0)\n",
        "\n",
        "      #the network needs to update its current weight values,also apply l1 and l2 normalization to the weight (not to the bias)\n",
        "    \n",
        "      delta_w_out = grad_w_out + self.l1 * np.sign(self.W[1]) + self.l2 * 2 * self.W[1]   \n",
        "      delta_b_out = grad_b_out \n",
        "\n",
        "      self.W[1] = self.W[1] - self.eta * delta_w_out\n",
        "      self.B[1] = self.B[1] - self.eta * delta_b_out\n",
        "\n",
        "      # derivative of a sigmoided output A[0].\n",
        "\n",
        "      sigmoid_derivative_h = A[0] * (1-A[0])\n",
        "\n",
        "\n",
        "      delta_h = (np.dot(delta_out, self.W[1].T) * sigmoid_derivative_h)\n",
        "      grad_w_h = np.dot(X_train[batch_idx].T, delta_h) \n",
        "      grad_b_h = np.sum(delta_h, axis=0)\n",
        "\n",
        "    \n",
        "      # The gradient of w and b are merged with l1/l2 terms.\n",
        "  \n",
        "      delta_w_h = grad_w_h + self.l1 * np.sign(self.W[0]) + self.l2 * 2 * self.W[0] \n",
        "      delta_b_h = grad_b_h\n",
        "\n",
        "      self.W[0] = self.W[0] - self.eta * delta_w_h\n",
        "      self.B[0] = self.B[0] - self.eta * delta_b_h\n",
        "\n",
        "     \n",
        "\n",
        "    def evaluate(self, epoch, X_train, X_valid, y_train, y_valid): #Evaluate performances per epoch\n",
        "\n",
        "\n",
        "      Z, A = self.forward(X_train)\n",
        "    \n",
        "      y_train_pred = self.predict(X_train) \n",
        "      y_valid_pred = self.predict(X_valid)\n",
        "\n",
        "      cost = self.cost(one_hot(y_train), A[-1])\n",
        "\n",
        "\n",
        "      train_acc = np.sum(y_train == y_train_pred)/len(y_train) \n",
        "      valid_acc = np.sum(y_valid == y_valid_pred)/len(y_valid)\n",
        "\n",
        "\n",
        "      if self.debug == True:\n",
        "        print('%d/%d | Cost: %.2f '\n",
        "                        '| Train/Valid Acc.: %.2f%%/%.2f%% ' %\n",
        "                        (epoch+1, self.epochs, cost,\n",
        "                          train_acc*100, valid_acc*100))\n",
        "\n",
        "      self.history['cost'].append(cost)\n",
        "      self.history['train_acc'].append(train_acc)\n",
        "      self.history['valid_acc'].append(valid_acc)\n",
        "\n",
        "\n",
        "\n",
        "    def fit(self, X, y): #Learn weights from training data.\n",
        "\n",
        "        self.history = {'cost': [], 'train_acc': [], 'valid_acc': []}\n",
        "        \n",
        "        X_train, X_valid, y_train, y_valid = train_test_split(X, y, test_size = self.validation_rate, stratify = y)\n",
        "        \n",
        "        self.compile(X_train.shape[1], len(np.unique(y))) \n",
        "\n",
        "        y_train_enc = one_hot(y_train)\n",
        "\n",
        "        # iterate over training epochs\n",
        "        for i in range(self.epochs):\n",
        "          \n",
        "            indices = np.arange(X_train.shape[0])\n",
        "               \n",
        "            if self.shuffle == True:\n",
        "              self.random.shuffle(indices)\n",
        "\n",
        "          \n",
        "            # iterate over the data\n",
        "            for start_idx in range(0, indices.shape[0] - self.batch_size + 1, self.batch_size):\n",
        "                batch_idx = indices[start_idx:start_idx + self.batch_size]    \n",
        "              \n",
        "                #forward propagation\n",
        "                Z, A = self.forward(X_train[batch_idx])\n",
        "                #back propagation\n",
        "                self.back_propagation(X_train, batch_idx, A, y_train_enc)\n",
        "                \n",
        "            #evaluate\n",
        "            self.evaluate(i, X_train, X_valid, y_train, y_valid) \n",
        "\n",
        "        #return self.history\n",
        "        return self.history\n",
        "      \n",
        "\n",
        "    def transform(self, X, y=None):\n",
        "\n",
        "      return self.history\n",
        "\n",
        "    def score(self, X, y=None):\n",
        "      \n",
        "      y_pred = self.predict(X)\n",
        "      acc = np.sum(y == y_pred) / X.shape[0]\n",
        "      \n",
        "      return acc"
      ]
    },
    {
      "cell_type": "code",
      "execution_count": 22,
      "metadata": {
        "id": "pEkq3fydrmVw"
      },
      "outputs": [],
      "source": [
        "nn = FullyConnectedNetwork(n_hidden=150, l2=0.01, epochs=30, eta=0.001, batch_size=50, shuffle=True, seed=RANDOM_STATE)"
      ]
    },
    {
      "cell_type": "code",
      "execution_count": 23,
      "metadata": {
        "id": "uSKfzn3czNrU"
      },
      "outputs": [
        {
          "name": "stdout",
          "output_type": "stream",
          "text": [
            "1/30 | Cost: 42960.37 | Train/Valid Acc.: 85.51%/86.15% \n",
            "2/30 | Cost: 34224.02 | Train/Valid Acc.: 88.14%/88.33% \n",
            "3/30 | Cost: 30534.88 | Train/Valid Acc.: 89.27%/89.21% \n",
            "4/30 | Cost: 28104.71 | Train/Valid Acc.: 90.14%/90.12% \n",
            "5/30 | Cost: 26220.32 | Train/Valid Acc.: 90.92%/90.72% \n",
            "6/30 | Cost: 24796.54 | Train/Valid Acc.: 91.48%/91.30% \n",
            "7/30 | Cost: 23769.76 | Train/Valid Acc.: 91.78%/91.53% \n",
            "8/30 | Cost: 22683.89 | Train/Valid Acc.: 92.22%/91.96% \n",
            "9/30 | Cost: 21937.35 | Train/Valid Acc.: 92.49%/92.23% \n",
            "10/30 | Cost: 21165.73 | Train/Valid Acc.: 92.80%/92.49% \n",
            "11/30 | Cost: 20467.13 | Train/Valid Acc.: 93.11%/92.93% \n",
            "12/30 | Cost: 19808.60 | Train/Valid Acc.: 93.30%/92.98% \n",
            "13/30 | Cost: 19173.58 | Train/Valid Acc.: 93.57%/93.27% \n",
            "14/30 | Cost: 18688.41 | Train/Valid Acc.: 93.74%/93.48% \n",
            "15/30 | Cost: 18256.49 | Train/Valid Acc.: 93.91%/93.63% \n",
            "16/30 | Cost: 17788.40 | Train/Valid Acc.: 94.03%/93.79% \n",
            "17/30 | Cost: 17394.16 | Train/Valid Acc.: 94.21%/93.85% \n",
            "18/30 | Cost: 17105.92 | Train/Valid Acc.: 94.34%/94.05% \n",
            "19/30 | Cost: 16706.85 | Train/Valid Acc.: 94.49%/94.08% \n",
            "20/30 | Cost: 16367.71 | Train/Valid Acc.: 94.62%/94.29% \n",
            "21/30 | Cost: 16138.19 | Train/Valid Acc.: 94.67%/94.35% \n",
            "22/30 | Cost: 15784.62 | Train/Valid Acc.: 94.74%/94.42% \n",
            "23/30 | Cost: 15529.02 | Train/Valid Acc.: 95.03%/94.47% \n",
            "24/30 | Cost: 15273.10 | Train/Valid Acc.: 95.13%/94.58% \n",
            "25/30 | Cost: 15031.27 | Train/Valid Acc.: 95.14%/94.55% \n",
            "26/30 | Cost: 14792.27 | Train/Valid Acc.: 95.22%/94.74% \n",
            "27/30 | Cost: 14589.16 | Train/Valid Acc.: 95.39%/94.73% \n",
            "28/30 | Cost: 14360.52 | Train/Valid Acc.: 95.41%/94.86% \n",
            "29/30 | Cost: 14129.86 | Train/Valid Acc.: 95.47%/94.87% \n",
            "30/30 | Cost: 13922.56 | Train/Valid Acc.: 95.59%/94.92% \n"
          ]
        }
      ],
      "source": [
        "history = nn.fit(X_train,y_train)"
      ]
    },
    {
      "cell_type": "code",
      "execution_count": 24,
      "metadata": {
        "id": "n79B9p-OzPIA"
      },
      "outputs": [
        {
          "data": {
            "image/png": "[encoded data removed]",
            "text/plain": [
              "<Figure size 640x480 with 1 Axes>"
            ]
          },
          "metadata": {},
          "output_type": "display_data"
        }
      ],
      "source": [
        "plt.plot(history['train_acc'])\n",
        "plt.plot(history['valid_acc'])\n",
        "plt.show()"
      ]
    },
    {
      "cell_type": "markdown",
      "metadata": {
        "id": "rPA_LeMzqyFc"
      },
      "source": [
        "Integrate our classifier into the scikit-learn pipeline and the randomized search"
      ]
    },
    {
      "cell_type": "code",
      "execution_count": null,
      "metadata": {
        "id": "7KQyD1cf1Na8"
      },
      "outputs": [
        {
          "name": "stdout",
          "output_type": "stream",
          "text": [
            "1/10 | Cost: 65266.57 | Train/Valid Acc.: 78.90%/78.36% \n",
            "2/10 | Cost: 44134.19 | Train/Valid Acc.: 85.42%/84.73% \n",
            "3/10 | Cost: 35474.32 | Train/Valid Acc.: 88.15%/87.15% \n",
            "4/10 | Cost: 30841.69 | Train/Valid Acc.: 89.32%/88.43% \n",
            "5/10 | Cost: 27969.94 | Train/Valid Acc.: 90.11%/89.23% \n",
            "6/10 | Cost: 26183.08 | Train/Valid Acc.: 90.69%/89.84% \n",
            "7/10 | Cost: 24507.00 | Train/Valid Acc.: 91.21%/90.46% \n",
            "8/10 | Cost: 23479.53 | Train/Valid Acc.: 91.47%/90.71% \n",
            "9/10 | Cost: 22600.16 | Train/Valid Acc.: 91.87%/90.96% \n",
            "10/10 | Cost: 21713.53 | Train/Valid Acc.: 92.12%/91.29% \n"
          ]
        },
        {
          "data": {
            "text/html": [
              "<style>#sk-container-id-1 {color: black;background-color: white;}#sk-container-id-1 pre{padding: 0;}#sk-container-id-1 div.sk-toggleable {background-color: white;}#sk-container-id-1 label.sk-toggleable__label {cursor: pointer;display: block;width: 100%;margin-bottom: 0;padding: 0.3em;box-sizing: border-box;text-align: center;}#sk-container-id-1 label.sk-toggleable__label-arrow:before {content: \"▸\";float: left;margin-right: 0.25em;color: #696969;}#sk-container-id-1 label.sk-toggleable__label-arrow:hover:before {color: black;}#sk-container-id-1 div.sk-estimator:hover label.sk-toggleable__label-arrow:before {color: black;}#sk-container-id-1 div.sk-toggleable__content {max-height: 0;max-width: 0;overflow: hidden;text-align: left;background-color: #f0f8ff;}#sk-container-id-1 div.sk-toggleable__content pre {margin: 0.2em;color: black;border-radius: 0.25em;background-color: #f0f8ff;}#sk-container-id-1 input.sk-toggleable__control:checked~div.sk-toggleable__content {max-height: 200px;max-width: 100%;overflow: auto;}#sk-container-id-1 input.sk-toggleable__control:checked~label.sk-toggleable__label-arrow:before {content: \"▾\";}#sk-container-id-1 div.sk-estimator input.sk-toggleable__control:checked~label.sk-toggleable__label {background-color: #d4ebff;}#sk-container-id-1 div.sk-label input.sk-toggleable__control:checked~label.sk-toggleable__label {background-color: #d4ebff;}#sk-container-id-1 input.sk-hidden--visually {border: 0;clip: rect(1px 1px 1px 1px);clip: rect(1px, 1px, 1px, 1px);height: 1px;margin: -1px;overflow: hidden;padding: 0;position: absolute;width: 1px;}#sk-container-id-1 div.sk-estimator {font-family: monospace;background-color: #f0f8ff;border: 1px dotted black;border-radius: 0.25em;box-sizing: border-box;margin-bottom: 0.5em;}#sk-container-id-1 div.sk-estimator:hover {background-color: #d4ebff;}#sk-container-id-1 div.sk-parallel-item::after {content: \"\";width: 100%;border-bottom: 1px solid gray;flex-grow: 1;}#sk-container-id-1 div.sk-label:hover label.sk-toggleable__label {background-color: #d4ebff;}#sk-container-id-1 div.sk-serial::before {content: \"\";position: absolute;border-left: 1px solid gray;box-sizing: border-box;top: 0;bottom: 0;left: 50%;z-index: 0;}#sk-container-id-1 div.sk-serial {display: flex;flex-direction: column;align-items: center;background-color: white;padding-right: 0.2em;padding-left: 0.2em;position: relative;}#sk-container-id-1 div.sk-item {position: relative;z-index: 1;}#sk-container-id-1 div.sk-parallel {display: flex;align-items: stretch;justify-content: center;background-color: white;position: relative;}#sk-container-id-1 div.sk-item::before, #sk-container-id-1 div.sk-parallel-item::before {content: \"\";position: absolute;border-left: 1px solid gray;box-sizing: border-box;top: 0;bottom: 0;left: 50%;z-index: -1;}#sk-container-id-1 div.sk-parallel-item {display: flex;flex-direction: column;z-index: 1;position: relative;background-color: white;}#sk-container-id-1 div.sk-parallel-item:first-child::after {align-self: flex-end;width: 50%;}#sk-container-id-1 div.sk-parallel-item:last-child::after {align-self: flex-start;width: 50%;}#sk-container-id-1 div.sk-parallel-item:only-child::after {width: 0;}#sk-container-id-1 div.sk-dashed-wrapped {border: 1px dashed gray;margin: 0 0.4em 0.5em 0.4em;box-sizing: border-box;padding-bottom: 0.4em;background-color: white;}#sk-container-id-1 div.sk-label label {font-family: monospace;font-weight: bold;display: inline-block;line-height: 1.2em;}#sk-container-id-1 div.sk-label-container {text-align: center;}#sk-container-id-1 div.sk-container {/* jupyter's `normalize.less` sets `[hidden] { display: none; }` but bootstrap.min.css set `[hidden] { display: none !important; }` so we also need the `!important` here to be able to override the default hidden behavior on the sphinx rendered scikit-learn.org. See: https://github.com/scikit-learn/scikit-learn/issues/21755 */display: inline-block !important;position: relative;}#sk-container-id-1 div.sk-text-repr-fallback {display: none;}</style><div id=\"sk-container-id-1\" class=\"sk-top-container\"><div class=\"sk-text-repr-fallback\"><pre>Pipeline(steps=[(&#x27;normalizer&#x27;, Normalizer()),\n",
              "                (&#x27;classifier&#x27;, FullyConnectedNetwork(epochs=10))])</pre><b>In a Jupyter environment, please rerun this cell to show the HTML representation or trust the notebook. <br />On GitHub, the HTML representation is unable to render, please try loading this page with nbviewer.org.</b></div><div class=\"sk-container\" hidden><div class=\"sk-item sk-dashed-wrapped\"><div class=\"sk-label-container\"><div class=\"sk-label sk-toggleable\"><input class=\"sk-toggleable__control sk-hidden--visually\" id=\"sk-estimator-id-1\" type=\"checkbox\" ><label for=\"sk-estimator-id-1\" class=\"sk-toggleable__label sk-toggleable__label-arrow\">Pipeline</label><div class=\"sk-toggleable__content\"><pre>Pipeline(steps=[(&#x27;normalizer&#x27;, Normalizer()),\n",
              "                (&#x27;classifier&#x27;, FullyConnectedNetwork(epochs=10))])</pre></div></div></div><div class=\"sk-serial\"><div class=\"sk-item\"><div class=\"sk-estimator sk-toggleable\"><input class=\"sk-toggleable__control sk-hidden--visually\" id=\"sk-estimator-id-2\" type=\"checkbox\" ><label for=\"sk-estimator-id-2\" class=\"sk-toggleable__label sk-toggleable__label-arrow\">Normalizer</label><div class=\"sk-toggleable__content\"><pre>Normalizer()</pre></div></div></div><div class=\"sk-item\"><div class=\"sk-estimator sk-toggleable\"><input class=\"sk-toggleable__control sk-hidden--visually\" id=\"sk-estimator-id-3\" type=\"checkbox\" ><label for=\"sk-estimator-id-3\" class=\"sk-toggleable__label sk-toggleable__label-arrow\">FullyConnectedNetwork</label><div class=\"sk-toggleable__content\"><pre>FullyConnectedNetwork(epochs=10)</pre></div></div></div></div></div></div></div>"
            ],
            "text/plain": [
              "Pipeline(steps=[('normalizer', Normalizer()),\n",
              "                ('classifier', FullyConnectedNetwork(epochs=10))])"
            ]
          },
          "execution_count": 25,
          "metadata": {},
          "output_type": "execute_result"
        }
      ],
      "source": [
        "\n",
        "class Normalizer(BaseEstimator, TransformerMixin):\n",
        "    def transform(self, X, y=None):\n",
        "        X_normalized = (X/225)-0.5\n",
        "\n",
        "        return X_normalized\n",
        "    \n",
        "    def fit(self, X, y=None):\n",
        "        return self\n",
        "    \n",
        "\n",
        "pipe = Pipeline([\n",
        "    ('normalizer', Normalizer()),\n",
        "    ('classifier', FullyConnectedNetwork(epochs=10))]) \n",
        "X_train, X_test, y_train, y_test = train_test_split(X, y_integer, random_state = RANDOM_STATE, test_size=0.2, shuffle = True, stratify = y_integer)\n",
        "pipe.fit(X_train, y_train)\n",
        "\n"
      ]
    },
    {
      "cell_type": "code",
      "execution_count": 26,
      "metadata": {
        "id": "tQRQASa5bz89"
      },
      "outputs": [],
      "source": [
        "pipeline_score = pipe.score(X_test, y_test)"
      ]
    },
    {
      "cell_type": "code",
      "execution_count": null,
      "metadata": {
        "id": "Lcykfo9x6zY8"
      },
      "outputs": [
        {
          "name": "stdout",
          "output_type": "stream",
          "text": [
            "0.9149285714285714\n"
          ]
        }
      ],
      "source": [
        "print(pipeline_score)"
      ]
    },
    {
      "cell_type": "markdown",
      "metadata": {
        "id": "nMdqSR8k4hRI"
      },
      "source": [
        "- Task 4: Randomized search\n",
        "  - After constructing your pipeline, you can perform a randomized search on it.\n",
        "  - Define your parameter grid with the following information. Use `np.arange` if neccesary:\n",
        "    - l1 of classifier: 0 to 0.01 (included) with step size 0.002.\n",
        "    - l2 of classifier: 0 to 0.01 (included) with step size 0.002.\n",
        "    - size of hidden layer of classifier: 20 to 100 with step size 10\n",
        "    - learning rate of classifier: 0.0001 to 0.001 with step size 0.0001\n",
        "    - initialization techniques of classifier: [normal, xavier, he]\n",
        "  - Run your randomized search with cv=3. Fit it on your previous `X_train` and `y_train`.\n",
        "    - Make 10 different attempts.\n",
        "    - Set `random_state` = `RANDOM_STATE`\n",
        "  - Report your best classifier and best score into the variables `best_classifier` and `best_score`.\n",
        "\n",
        "  - **Note that this task will take a few hours based on computing power, so you may not need to finish the run. The submission is regarded correct if the logic is correct - if you cannot finish the task before the submission.**"
      ]
    },
    {
      "cell_type": "code",
      "execution_count": 32,
      "metadata": {
        "id": "rysn4lmhmpBb"
      },
      "outputs": [
        {
          "name": "stdout",
          "output_type": "stream",
          "text": [
            "1/10 | Cost: 92013.45 | Train/Valid Acc.: 10.49%/10.49% \n",
            "2/10 | Cost: 85505.47 | Train/Valid Acc.: 11.19%/11.19% \n",
            "3/10 | Cost: 84963.29 | Train/Valid Acc.: 11.19%/11.19% \n",
            "4/10 | Cost: 84917.33 | Train/Valid Acc.: 11.19%/11.19% \n",
            "5/10 | Cost: 84913.32 | Train/Valid Acc.: 11.19%/11.19% \n",
            "6/10 | Cost: 84912.98 | Train/Valid Acc.: 11.19%/11.19% \n",
            "7/10 | Cost: 84914.02 | Train/Valid Acc.: 11.19%/11.19% \n",
            "8/10 | Cost: 84912.99 | Train/Valid Acc.: 11.19%/11.19% \n",
            "9/10 | Cost: 84913.82 | Train/Valid Acc.: 11.19%/11.19% \n",
            "10/10 | Cost: 84913.35 | Train/Valid Acc.: 11.19%/11.19% \n",
            "1/10 | Cost: 92049.48 | Train/Valid Acc.: 11.32%/11.32% \n",
            "2/10 | Cost: 85507.98 | Train/Valid Acc.: 11.32%/11.32% \n",
            "3/10 | Cost: 84959.35 | Train/Valid Acc.: 11.32%/11.32% \n",
            "4/10 | Cost: 84914.13 | Train/Valid Acc.: 11.32%/11.32% \n",
            "5/10 | Cost: 84909.60 | Train/Valid Acc.: 11.32%/11.32% \n",
            "6/10 | Cost: 84909.22 | Train/Valid Acc.: 11.32%/11.32% \n",
            "7/10 | Cost: 84909.37 | Train/Valid Acc.: 11.32%/11.32% \n",
            "8/10 | Cost: 84909.25 | Train/Valid Acc.: 11.32%/11.32% \n",
            "9/10 | Cost: 84909.36 | Train/Valid Acc.: 11.32%/11.32% \n",
            "10/10 | Cost: 84909.27 | Train/Valid Acc.: 11.32%/11.32% \n",
            "1/10 | Cost: 91910.43 | Train/Valid Acc.: 10.37%/10.37% \n",
            "2/10 | Cost: 85527.13 | Train/Valid Acc.: 11.25%/11.25% \n",
            "3/10 | Cost: 84963.39 | Train/Valid Acc.: 11.25%/11.25% \n",
            "4/10 | Cost: 84916.48 | Train/Valid Acc.: 11.25%/11.25% \n",
            "5/10 | Cost: 84913.40 | Train/Valid Acc.: 11.25%/11.25% \n",
            "6/10 | Cost: 84911.20 | Train/Valid Acc.: 11.25%/11.25% \n",
            "7/10 | Cost: 84912.16 | Train/Valid Acc.: 11.25%/11.25% \n",
            "8/10 | Cost: 84911.78 | Train/Valid Acc.: 11.25%/11.25% \n",
            "9/10 | Cost: 84911.96 | Train/Valid Acc.: 11.25%/11.25% \n",
            "10/10 | Cost: 84911.63 | Train/Valid Acc.: 11.25%/11.25% \n",
            "1/10 | Cost: 89186.48 | Train/Valid Acc.: 22.88%/23.26% \n",
            "2/10 | Cost: 95034.56 | Train/Valid Acc.: 14.59%/14.48% \n",
            "3/10 | Cost: 95203.04 | Train/Valid Acc.: 11.19%/11.19% \n",
            "4/10 | Cost: 94354.23 | Train/Valid Acc.: 11.19%/11.19% \n",
            "5/10 | Cost: 93304.15 | Train/Valid Acc.: 11.19%/11.19% \n",
            "6/10 | Cost: 91738.61 | Train/Valid Acc.: 11.19%/11.19% \n",
            "7/10 | Cost: 89214.57 | Train/Valid Acc.: 11.19%/11.19% \n",
            "8/10 | Cost: 87264.95 | Train/Valid Acc.: 11.19%/11.19% \n",
            "9/10 | Cost: 86248.17 | Train/Valid Acc.: 11.19%/11.19% \n",
            "10/10 | Cost: 85688.45 | Train/Valid Acc.: 11.19%/11.19% \n",
            "1/10 | Cost: 89290.56 | Train/Valid Acc.: 21.19%/21.02% \n",
            "2/10 | Cost: 95124.60 | Train/Valid Acc.: 11.32%/11.32% \n",
            "3/10 | Cost: 95178.32 | Train/Valid Acc.: 11.32%/11.32% \n",
            "4/10 | Cost: 94380.60 | Train/Valid Acc.: 11.32%/11.32% \n",
            "5/10 | Cost: 93339.53 | Train/Valid Acc.: 11.32%/11.32% \n",
            "6/10 | Cost: 91653.90 | Train/Valid Acc.: 11.32%/11.32% \n",
            "7/10 | Cost: 89072.48 | Train/Valid Acc.: 11.32%/11.32% \n",
            "8/10 | Cost: 87200.02 | Train/Valid Acc.: 11.32%/11.32% \n",
            "9/10 | Cost: 86210.24 | Train/Valid Acc.: 11.32%/11.32% \n",
            "10/10 | Cost: 85665.25 | Train/Valid Acc.: 11.32%/11.32% \n",
            "1/10 | Cost: 88344.98 | Train/Valid Acc.: 25.54%/25.65% \n",
            "2/10 | Cost: 94794.80 | Train/Valid Acc.: 11.25%/11.25% \n",
            "3/10 | Cost: 95201.54 | Train/Valid Acc.: 11.25%/11.25% \n",
            "4/10 | Cost: 94244.92 | Train/Valid Acc.: 11.25%/11.25% \n",
            "5/10 | Cost: 93240.30 | Train/Valid Acc.: 11.25%/11.25% \n",
            "6/10 | Cost: 91618.91 | Train/Valid Acc.: 11.25%/11.25% \n",
            "7/10 | Cost: 89139.09 | Train/Valid Acc.: 11.25%/11.25% \n",
            "8/10 | Cost: 87238.01 | Train/Valid Acc.: 11.25%/11.25% \n",
            "9/10 | Cost: 86227.29 | Train/Valid Acc.: 11.25%/11.25% \n",
            "10/10 | Cost: 85676.85 | Train/Valid Acc.: 11.25%/11.25% \n",
            "1/10 | Cost: 83367.62 | Train/Valid Acc.: 23.33%/23.79% \n",
            "2/10 | Cost: 80824.00 | Train/Valid Acc.: 37.60%/37.80% \n",
            "3/10 | Cost: 78930.79 | Train/Valid Acc.: 46.17%/46.54% \n",
            "4/10 | Cost: 77369.39 | Train/Valid Acc.: 50.64%/50.89% \n",
            "5/10 | Cost: 76049.81 | Train/Valid Acc.: 53.54%/54.03% \n",
            "6/10 | Cost: 74985.48 | Train/Valid Acc.: 57.82%/57.92% \n",
            "7/10 | Cost: 74193.70 | Train/Valid Acc.: 60.22%/60.09% \n",
            "8/10 | Cost: 73721.45 | Train/Valid Acc.: 61.05%/60.69% \n",
            "9/10 | Cost: 73518.06 | Train/Valid Acc.: 62.03%/61.60% \n",
            "10/10 | Cost: 73605.32 | Train/Valid Acc.: 61.09%/60.81% \n",
            "1/10 | Cost: 81935.56 | Train/Valid Acc.: 26.70%/26.48% \n",
            "2/10 | Cost: 78717.00 | Train/Valid Acc.: 37.44%/37.14% \n",
            "3/10 | Cost: 76344.82 | Train/Valid Acc.: 44.19%/44.72% \n",
            "4/10 | Cost: 74477.01 | Train/Valid Acc.: 52.91%/52.99% \n",
            "5/10 | Cost: 73049.38 | Train/Valid Acc.: 55.53%/55.82% \n",
            "6/10 | Cost: 71963.45 | Train/Valid Acc.: 60.64%/60.98% \n",
            "7/10 | Cost: 71268.19 | Train/Valid Acc.: 63.16%/63.45% \n",
            "8/10 | Cost: 70972.76 | Train/Valid Acc.: 62.74%/63.53% \n",
            "9/10 | Cost: 70995.48 | Train/Valid Acc.: 63.30%/64.00% \n",
            "10/10 | Cost: 71241.57 | Train/Valid Acc.: 64.06%/64.57% \n",
            "1/10 | Cost: 81320.36 | Train/Valid Acc.: 27.34%/28.02% \n",
            "2/10 | Cost: 78267.79 | Train/Valid Acc.: 47.66%/47.48% \n",
            "3/10 | Cost: 75904.20 | Train/Valid Acc.: 56.92%/56.66% \n",
            "4/10 | Cost: 73913.44 | Train/Valid Acc.: 60.41%/60.16% \n",
            "5/10 | Cost: 72354.64 | Train/Valid Acc.: 64.36%/64.49% \n",
            "6/10 | Cost: 71243.00 | Train/Valid Acc.: 64.57%/64.85% \n",
            "7/10 | Cost: 70617.58 | Train/Valid Acc.: 66.36%/66.51% \n",
            "8/10 | Cost: 70393.76 | Train/Valid Acc.: 67.12%/67.46% \n",
            "9/10 | Cost: 70464.51 | Train/Valid Acc.: 66.54%/66.82% \n",
            "10/10 | Cost: 70815.85 | Train/Valid Acc.: 68.20%/68.61% \n",
            "1/10 | Cost: 91071.38 | Train/Valid Acc.: 10.23%/10.22% \n",
            "2/10 | Cost: 85218.62 | Train/Valid Acc.: 11.19%/11.19% \n",
            "3/10 | Cost: 84930.10 | Train/Valid Acc.: 11.19%/11.19% \n",
            "4/10 | Cost: 84914.24 | Train/Valid Acc.: 11.19%/11.19% \n",
            "5/10 | Cost: 84913.16 | Train/Valid Acc.: 11.19%/11.19% \n",
            "6/10 | Cost: 84913.18 | Train/Valid Acc.: 11.19%/11.19% \n",
            "7/10 | Cost: 84913.24 | Train/Valid Acc.: 11.19%/11.19% \n",
            "8/10 | Cost: 84913.30 | Train/Valid Acc.: 11.19%/11.19% \n",
            "9/10 | Cost: 84913.66 | Train/Valid Acc.: 11.19%/11.19% \n",
            "10/10 | Cost: 84913.26 | Train/Valid Acc.: 11.19%/11.19% \n",
            "1/10 | Cost: 91042.04 | Train/Valid Acc.: 11.32%/11.32% \n",
            "2/10 | Cost: 85198.09 | Train/Valid Acc.: 11.32%/11.32% \n",
            "3/10 | Cost: 84924.45 | Train/Valid Acc.: 11.32%/11.32% \n",
            "4/10 | Cost: 84911.09 | Train/Valid Acc.: 11.32%/11.32% \n",
            "5/10 | Cost: 84909.76 | Train/Valid Acc.: 11.32%/11.32% \n",
            "6/10 | Cost: 84909.55 | Train/Valid Acc.: 11.32%/11.32% \n",
            "7/10 | Cost: 84909.84 | Train/Valid Acc.: 11.32%/11.32% \n",
            "8/10 | Cost: 84909.60 | Train/Valid Acc.: 11.32%/11.32% \n",
            "9/10 | Cost: 84909.91 | Train/Valid Acc.: 11.32%/11.32% \n",
            "10/10 | Cost: 84910.12 | Train/Valid Acc.: 11.32%/11.32% \n",
            "1/10 | Cost: 91080.41 | Train/Valid Acc.: 9.95%/9.95% \n",
            "2/10 | Cost: 85199.07 | Train/Valid Acc.: 11.25%/11.25% \n",
            "3/10 | Cost: 84929.96 | Train/Valid Acc.: 11.25%/11.25% \n",
            "4/10 | Cost: 84912.98 | Train/Valid Acc.: 11.25%/11.25% \n",
            "5/10 | Cost: 84911.48 | Train/Valid Acc.: 11.25%/11.25% \n",
            "6/10 | Cost: 84912.00 | Train/Valid Acc.: 11.25%/11.25% \n",
            "7/10 | Cost: 84912.54 | Train/Valid Acc.: 11.25%/11.25% \n",
            "8/10 | Cost: 84911.87 | Train/Valid Acc.: 11.25%/11.25% \n",
            "9/10 | Cost: 84912.31 | Train/Valid Acc.: 11.25%/11.25% \n",
            "10/10 | Cost: 84911.72 | Train/Valid Acc.: 11.25%/11.25% \n",
            "1/10 | Cost: 87351.44 | Train/Valid Acc.: 11.19%/11.19% \n",
            "2/10 | Cost: 87097.46 | Train/Valid Acc.: 11.19%/11.19% \n",
            "3/10 | Cost: 87010.60 | Train/Valid Acc.: 11.19%/11.19% \n",
            "4/10 | Cost: 86926.03 | Train/Valid Acc.: 11.19%/11.19% \n",
            "5/10 | Cost: 86857.49 | Train/Valid Acc.: 10.49%/10.49% \n",
            "6/10 | Cost: 86766.19 | Train/Valid Acc.: 11.19%/11.19% \n",
            "7/10 | Cost: 86642.14 | Train/Valid Acc.: 11.19%/11.19% \n",
            "8/10 | Cost: 86336.96 | Train/Valid Acc.: 11.19%/11.19% \n",
            "9/10 | Cost: 85773.20 | Train/Valid Acc.: 11.19%/11.19% \n",
            "10/10 | Cost: 85235.62 | Train/Valid Acc.: 11.19%/11.19% \n",
            "1/10 | Cost: 87362.92 | Train/Valid Acc.: 11.32%/11.32% \n",
            "2/10 | Cost: 87094.55 | Train/Valid Acc.: 11.32%/11.32% \n",
            "3/10 | Cost: 87010.67 | Train/Valid Acc.: 11.32%/11.32% \n",
            "4/10 | Cost: 86926.97 | Train/Valid Acc.: 11.32%/11.32% \n",
            "5/10 | Cost: 86852.96 | Train/Valid Acc.: 11.32%/11.32% \n",
            "6/10 | Cost: 86746.30 | Train/Valid Acc.: 11.32%/11.32% \n",
            "7/10 | Cost: 86593.91 | Train/Valid Acc.: 11.32%/11.32% \n",
            "8/10 | Cost: 86341.94 | Train/Valid Acc.: 11.32%/11.32% \n",
            "9/10 | Cost: 85777.34 | Train/Valid Acc.: 11.32%/11.32% \n",
            "10/10 | Cost: 85258.06 | Train/Valid Acc.: 11.32%/11.32% \n",
            "1/10 | Cost: 87361.87 | Train/Valid Acc.: 11.25%/11.25% \n",
            "2/10 | Cost: 87095.84 | Train/Valid Acc.: 11.25%/11.25% \n",
            "3/10 | Cost: 86985.74 | Train/Valid Acc.: 11.25%/11.25% \n",
            "4/10 | Cost: 86920.85 | Train/Valid Acc.: 11.25%/11.25% \n",
            "5/10 | Cost: 86839.29 | Train/Valid Acc.: 9.86%/9.87% \n",
            "6/10 | Cost: 86739.32 | Train/Valid Acc.: 11.25%/11.25% \n",
            "7/10 | Cost: 86577.13 | Train/Valid Acc.: 11.25%/11.25% \n",
            "8/10 | Cost: 86320.36 | Train/Valid Acc.: 11.25%/11.25% \n",
            "9/10 | Cost: 85786.04 | Train/Valid Acc.: 11.25%/11.25% \n",
            "10/10 | Cost: 85244.88 | Train/Valid Acc.: 11.25%/11.25% \n",
            "1/10 | Cost: 91637.07 | Train/Valid Acc.: 11.19%/11.19% \n",
            "2/10 | Cost: 91113.21 | Train/Valid Acc.: 11.19%/11.19% \n",
            "3/10 | Cost: 90483.77 | Train/Valid Acc.: 11.19%/11.19% \n",
            "4/10 | Cost: 88703.92 | Train/Valid Acc.: 11.19%/11.19% \n",
            "5/10 | Cost: 86394.17 | Train/Valid Acc.: 11.19%/11.19% \n",
            "6/10 | Cost: 85421.24 | Train/Valid Acc.: 11.19%/11.19% \n",
            "7/10 | Cost: 85099.05 | Train/Valid Acc.: 11.19%/11.19% \n",
            "8/10 | Cost: 84982.92 | Train/Valid Acc.: 11.19%/11.19% \n",
            "9/10 | Cost: 84940.62 | Train/Valid Acc.: 11.19%/11.19% \n",
            "10/10 | Cost: 84923.26 | Train/Valid Acc.: 11.19%/11.19% \n",
            "1/10 | Cost: 91634.85 | Train/Valid Acc.: 11.32%/11.32% \n",
            "2/10 | Cost: 91176.28 | Train/Valid Acc.: 11.32%/11.32% \n",
            "3/10 | Cost: 90417.26 | Train/Valid Acc.: 11.32%/11.32% \n",
            "4/10 | Cost: 88725.07 | Train/Valid Acc.: 11.32%/11.32% \n",
            "5/10 | Cost: 86398.67 | Train/Valid Acc.: 11.32%/11.32% \n",
            "6/10 | Cost: 85420.72 | Train/Valid Acc.: 11.32%/11.32% \n",
            "7/10 | Cost: 85094.59 | Train/Valid Acc.: 11.32%/11.32% \n",
            "8/10 | Cost: 84979.39 | Train/Valid Acc.: 11.32%/11.32% \n",
            "9/10 | Cost: 84935.85 | Train/Valid Acc.: 11.32%/11.32% \n",
            "10/10 | Cost: 84919.39 | Train/Valid Acc.: 11.32%/11.32% \n",
            "1/10 | Cost: 91600.57 | Train/Valid Acc.: 11.25%/11.25% \n",
            "2/10 | Cost: 91128.52 | Train/Valid Acc.: 10.37%/10.37% \n",
            "3/10 | Cost: 90395.17 | Train/Valid Acc.: 11.25%/11.25% \n",
            "4/10 | Cost: 88771.68 | Train/Valid Acc.: 11.25%/11.25% \n",
            "5/10 | Cost: 86384.90 | Train/Valid Acc.: 11.25%/11.25% \n",
            "6/10 | Cost: 85418.17 | Train/Valid Acc.: 11.25%/11.25% \n",
            "7/10 | Cost: 85096.58 | Train/Valid Acc.: 11.25%/11.25% \n",
            "8/10 | Cost: 84981.16 | Train/Valid Acc.: 11.25%/11.25% \n",
            "9/10 | Cost: 84938.15 | Train/Valid Acc.: 11.25%/11.25% \n",
            "10/10 | Cost: 84921.91 | Train/Valid Acc.: 11.25%/11.25% \n",
            "1/10 | Cost: 101938.27 | Train/Valid Acc.: 11.19%/11.19% \n",
            "2/10 | Cost: 94383.90 | Train/Valid Acc.: 11.19%/11.19% \n",
            "3/10 | Cost: 87844.55 | Train/Valid Acc.: 11.19%/11.19% \n",
            "4/10 | Cost: 85854.84 | Train/Valid Acc.: 11.19%/11.19% \n",
            "5/10 | Cost: 85243.32 | Train/Valid Acc.: 11.19%/11.19% \n",
            "6/10 | Cost: 85034.28 | Train/Valid Acc.: 11.19%/11.19% \n",
            "7/10 | Cost: 84958.47 | Train/Valid Acc.: 11.19%/11.19% \n",
            "8/10 | Cost: 84930.18 | Train/Valid Acc.: 11.19%/11.19% \n",
            "9/10 | Cost: 84919.43 | Train/Valid Acc.: 11.19%/11.19% \n",
            "10/10 | Cost: 84915.35 | Train/Valid Acc.: 11.19%/11.19% \n",
            "1/10 | Cost: 101508.37 | Train/Valid Acc.: 11.32%/11.32% \n",
            "2/10 | Cost: 94498.10 | Train/Valid Acc.: 11.32%/11.32% \n",
            "3/10 | Cost: 87881.65 | Train/Valid Acc.: 11.32%/11.32% \n",
            "4/10 | Cost: 85864.95 | Train/Valid Acc.: 11.32%/11.32% \n",
            "5/10 | Cost: 85244.84 | Train/Valid Acc.: 11.32%/11.32% \n",
            "6/10 | Cost: 85032.97 | Train/Valid Acc.: 11.32%/11.32% \n",
            "7/10 | Cost: 84955.86 | Train/Valid Acc.: 11.32%/11.32% \n",
            "8/10 | Cost: 84927.16 | Train/Valid Acc.: 11.32%/11.32% \n",
            "9/10 | Cost: 84916.14 | Train/Valid Acc.: 11.32%/11.32% \n",
            "10/10 | Cost: 84911.82 | Train/Valid Acc.: 11.32%/11.32% \n",
            "1/10 | Cost: 101956.68 | Train/Valid Acc.: 11.25%/11.25% \n",
            "2/10 | Cost: 94833.86 | Train/Valid Acc.: 10.18%/10.19% \n",
            "3/10 | Cost: 88057.83 | Train/Valid Acc.: 11.25%/11.25% \n",
            "4/10 | Cost: 85916.73 | Train/Valid Acc.: 11.25%/11.25% \n",
            "5/10 | Cost: 85262.97 | Train/Valid Acc.: 11.25%/11.25% \n",
            "6/10 | Cost: 85040.90 | Train/Valid Acc.: 11.25%/11.25% \n",
            "7/10 | Cost: 84960.13 | Train/Valid Acc.: 11.25%/11.25% \n",
            "8/10 | Cost: 84929.86 | Train/Valid Acc.: 11.25%/11.25% \n",
            "9/10 | Cost: 84918.42 | Train/Valid Acc.: 11.25%/11.25% \n",
            "10/10 | Cost: 84913.93 | Train/Valid Acc.: 11.25%/11.25% \n",
            "1/10 | Cost: 86465.10 | Train/Valid Acc.: 15.54%/15.56% \n",
            "2/10 | Cost: 87558.09 | Train/Valid Acc.: 12.36%/12.38% \n",
            "3/10 | Cost: 89421.35 | Train/Valid Acc.: 11.19%/11.19% \n",
            "4/10 | Cost: 89433.72 | Train/Valid Acc.: 11.19%/11.19% \n",
            "5/10 | Cost: 88709.81 | Train/Valid Acc.: 11.19%/11.19% \n",
            "6/10 | Cost: 88281.99 | Train/Valid Acc.: 11.19%/11.19% \n",
            "7/10 | Cost: 87947.34 | Train/Valid Acc.: 11.19%/11.19% \n",
            "8/10 | Cost: 87659.01 | Train/Valid Acc.: 11.19%/11.19% \n",
            "9/10 | Cost: 87404.56 | Train/Valid Acc.: 11.19%/11.19% \n",
            "10/10 | Cost: 87179.30 | Train/Valid Acc.: 11.19%/11.19% \n",
            "1/10 | Cost: 86924.97 | Train/Valid Acc.: 14.80%/14.34% \n",
            "2/10 | Cost: 87846.78 | Train/Valid Acc.: 11.33%/11.33% \n",
            "3/10 | Cost: 89342.89 | Train/Valid Acc.: 11.32%/11.32% \n",
            "4/10 | Cost: 89366.19 | Train/Valid Acc.: 11.32%/11.32% \n",
            "5/10 | Cost: 88646.07 | Train/Valid Acc.: 11.32%/11.32% \n",
            "6/10 | Cost: 88230.39 | Train/Valid Acc.: 11.32%/11.32% \n",
            "7/10 | Cost: 87902.28 | Train/Valid Acc.: 11.32%/11.32% \n",
            "8/10 | Cost: 87618.47 | Train/Valid Acc.: 11.32%/11.32% \n",
            "9/10 | Cost: 87369.21 | Train/Valid Acc.: 11.32%/11.32% \n",
            "10/10 | Cost: 87146.89 | Train/Valid Acc.: 11.32%/11.32% \n",
            "1/10 | Cost: 86355.73 | Train/Valid Acc.: 14.55%/14.13% \n",
            "2/10 | Cost: 87589.40 | Train/Valid Acc.: 11.52%/11.52% \n",
            "3/10 | Cost: 89383.58 | Train/Valid Acc.: 11.25%/11.25% \n",
            "4/10 | Cost: 89447.48 | Train/Valid Acc.: 11.25%/11.25% \n",
            "5/10 | Cost: 88719.23 | Train/Valid Acc.: 11.25%/11.25% \n",
            "6/10 | Cost: 88284.05 | Train/Valid Acc.: 11.25%/11.25% \n",
            "7/10 | Cost: 87948.42 | Train/Valid Acc.: 11.25%/11.25% \n",
            "8/10 | Cost: 87660.75 | Train/Valid Acc.: 11.25%/11.25% \n",
            "9/10 | Cost: 87406.63 | Train/Valid Acc.: 11.25%/11.25% \n",
            "10/10 | Cost: 87180.91 | Train/Valid Acc.: 11.25%/11.25% \n",
            "1/10 | Cost: 85856.82 | Train/Valid Acc.: 11.19%/11.19% \n",
            "2/10 | Cost: 84930.79 | Train/Valid Acc.: 11.19%/11.19% \n",
            "3/10 | Cost: 84917.59 | Train/Valid Acc.: 11.19%/11.19% \n",
            "4/10 | Cost: 84914.29 | Train/Valid Acc.: 11.19%/11.19% \n",
            "5/10 | Cost: 84914.18 | Train/Valid Acc.: 11.19%/11.19% \n",
            "6/10 | Cost: 84914.02 | Train/Valid Acc.: 11.19%/11.19% \n",
            "7/10 | Cost: 84915.43 | Train/Valid Acc.: 11.19%/11.19% \n",
            "8/10 | Cost: 84914.62 | Train/Valid Acc.: 11.19%/11.19% \n",
            "9/10 | Cost: 84914.98 | Train/Valid Acc.: 11.19%/11.19% \n",
            "10/10 | Cost: 84915.02 | Train/Valid Acc.: 11.19%/11.19% \n",
            "1/10 | Cost: 85831.77 | Train/Valid Acc.: 11.32%/11.32% \n",
            "2/10 | Cost: 84929.42 | Train/Valid Acc.: 11.32%/11.32% \n",
            "3/10 | Cost: 84912.09 | Train/Valid Acc.: 11.32%/11.32% \n",
            "4/10 | Cost: 84910.72 | Train/Valid Acc.: 11.32%/11.32% \n",
            "5/10 | Cost: 84911.52 | Train/Valid Acc.: 11.32%/11.32% \n",
            "6/10 | Cost: 84910.92 | Train/Valid Acc.: 11.32%/11.32% \n",
            "7/10 | Cost: 84912.13 | Train/Valid Acc.: 11.32%/11.32% \n",
            "8/10 | Cost: 84910.80 | Train/Valid Acc.: 11.32%/11.32% \n",
            "9/10 | Cost: 84910.68 | Train/Valid Acc.: 11.32%/11.32% \n",
            "10/10 | Cost: 84910.94 | Train/Valid Acc.: 11.32%/11.32% \n",
            "1/10 | Cost: 85858.48 | Train/Valid Acc.: 11.25%/11.25% \n",
            "2/10 | Cost: 84929.95 | Train/Valid Acc.: 11.25%/11.25% \n",
            "3/10 | Cost: 84913.35 | Train/Valid Acc.: 11.25%/11.25% \n",
            "4/10 | Cost: 84912.03 | Train/Valid Acc.: 11.25%/11.25% \n",
            "5/10 | Cost: 84914.07 | Train/Valid Acc.: 11.25%/11.25% \n",
            "6/10 | Cost: 84912.66 | Train/Valid Acc.: 11.25%/11.25% \n",
            "7/10 | Cost: 84913.48 | Train/Valid Acc.: 11.25%/11.25% \n",
            "8/10 | Cost: 84913.49 | Train/Valid Acc.: 11.25%/11.25% \n",
            "9/10 | Cost: 84913.57 | Train/Valid Acc.: 11.25%/11.25% \n",
            "10/10 | Cost: 84912.78 | Train/Valid Acc.: 11.25%/11.25% \n",
            "1/10 | Cost: 90119.02 | Train/Valid Acc.: 11.19%/11.19% \n",
            "2/10 | Cost: 85766.47 | Train/Valid Acc.: 11.19%/11.19% \n",
            "3/10 | Cost: 84959.69 | Train/Valid Acc.: 11.19%/11.19% \n",
            "4/10 | Cost: 84916.19 | Train/Valid Acc.: 11.19%/11.19% \n",
            "5/10 | Cost: 84913.50 | Train/Valid Acc.: 11.19%/11.19% \n",
            "6/10 | Cost: 84913.89 | Train/Valid Acc.: 11.19%/11.19% \n",
            "7/10 | Cost: 84917.43 | Train/Valid Acc.: 11.19%/11.19% \n",
            "8/10 | Cost: 84913.33 | Train/Valid Acc.: 11.19%/11.19% \n",
            "9/10 | Cost: 84913.61 | Train/Valid Acc.: 11.19%/11.19% \n",
            "10/10 | Cost: 84913.27 | Train/Valid Acc.: 11.19%/11.19% \n",
            "1/10 | Cost: 90074.92 | Train/Valid Acc.: 10.39%/10.39% \n",
            "2/10 | Cost: 85760.85 | Train/Valid Acc.: 11.32%/11.32% \n",
            "3/10 | Cost: 84953.44 | Train/Valid Acc.: 11.32%/11.32% \n",
            "4/10 | Cost: 84912.26 | Train/Valid Acc.: 11.32%/11.32% \n",
            "5/10 | Cost: 84909.51 | Train/Valid Acc.: 11.32%/11.32% \n",
            "6/10 | Cost: 84910.28 | Train/Valid Acc.: 11.32%/11.32% \n",
            "7/10 | Cost: 84912.58 | Train/Valid Acc.: 11.32%/11.32% \n",
            "8/10 | Cost: 84910.27 | Train/Valid Acc.: 11.32%/11.32% \n",
            "9/10 | Cost: 84909.86 | Train/Valid Acc.: 11.32%/11.32% \n",
            "10/10 | Cost: 84910.60 | Train/Valid Acc.: 11.32%/11.32% \n",
            "1/10 | Cost: 90104.42 | Train/Valid Acc.: 9.89%/9.89% \n",
            "2/10 | Cost: 85783.30 | Train/Valid Acc.: 11.25%/11.25% \n",
            "3/10 | Cost: 84955.89 | Train/Valid Acc.: 11.25%/11.25% \n",
            "4/10 | Cost: 84914.81 | Train/Valid Acc.: 11.25%/11.25% \n",
            "5/10 | Cost: 84912.86 | Train/Valid Acc.: 11.25%/11.25% \n",
            "6/10 | Cost: 84913.96 | Train/Valid Acc.: 11.25%/11.25% \n",
            "7/10 | Cost: 84911.97 | Train/Valid Acc.: 11.25%/11.25% \n",
            "8/10 | Cost: 84911.86 | Train/Valid Acc.: 11.25%/11.25% \n",
            "9/10 | Cost: 84911.92 | Train/Valid Acc.: 11.25%/11.25% \n",
            "10/10 | Cost: 84912.39 | Train/Valid Acc.: 11.25%/11.25% \n",
            "1/10 | Cost: 118722.66 | Train/Valid Acc.: 40.69%/40.91% \n",
            "2/10 | Cost: 113164.11 | Train/Valid Acc.: 54.57%/55.04% \n",
            "3/10 | Cost: 109570.40 | Train/Valid Acc.: 56.14%/56.42% \n",
            "4/10 | Cost: 107463.49 | Train/Valid Acc.: 60.43%/60.72% \n",
            "5/10 | Cost: 106374.33 | Train/Valid Acc.: 60.48%/60.88% \n",
            "6/10 | Cost: 106277.33 | Train/Valid Acc.: 61.13%/61.31% \n",
            "7/10 | Cost: 106945.75 | Train/Valid Acc.: 59.01%/59.38% \n",
            "8/10 | Cost: 108066.71 | Train/Valid Acc.: 57.00%/57.49% \n",
            "9/10 | Cost: 109280.94 | Train/Valid Acc.: 56.02%/56.49% \n",
            "10/10 | Cost: 110353.87 | Train/Valid Acc.: 54.61%/55.19% \n"
          ]
        }
      ],
      "source": [
        "parameters = {\"classifier__l1\" : np.arange(0,0.102,0.002), \"classifier__l2\" : np.arange(0,0.102,0.002), \"classifier__n_hidden\" : np.arange(20,110,10), \n",
        "              \"classifier__eta\" : np.arange(0.0001,0.0011,0.0001), \"classifier__init_technique\": ['normal', 'xavier', 'he']}\n",
        "\n",
        "grid = RandomizedSearchCV(estimator = pipe, param_distributions = parameters, n_iter = 10, cv = 3, random_state = RANDOM_STATE)\n",
        "grid.fit(X_train, y_train)\n",
        "\n",
        "best_classifier = grid.best_estimator_\n",
        "best_score = grid.best_score_"
      ]
    },
    {
      "cell_type": "code",
      "execution_count": null,
      "metadata": {
        "id": "Zisqj2Qk6318"
      },
      "outputs": [
        {
          "name": "stdout",
          "output_type": "stream",
          "text": [
            "Pipeline(steps=[('normalizer', Normalizer()),\n",
            "                ('classifier',\n",
            "                 FullyConnectedNetwork(epochs=10, l1=0.008,\n",
            "                                       l2=0.0006000000000000001,\n",
            "                                       n_hidden=90))]) 0.6831075543333092\n"
          ]
        }
      ],
      "source": [
        "print(best_classifier, best_score)"
      ]
    }
  ],
  "metadata": {
    "colab": {
      "provenance": []
    },
    "kernelspec": {
      "display_name": "Python 3",
      "name": "python3"
    },
    "language_info": {
      "codemirror_mode": {
        "name": "ipython",
        "version": 3
      },
      "file_extension": ".py",
      "mimetype": "text/x-python",
      "name": "python",
      "nbconvert_exporter": "python",
      "pygments_lexer": "ipython3",
      "version": "3.10.11"
    }
  },
  "nbformat": 4,
  "nbformat_minor": 0
}
